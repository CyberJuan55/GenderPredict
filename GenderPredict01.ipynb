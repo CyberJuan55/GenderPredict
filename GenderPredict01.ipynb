{
  "nbformat": 4,
  "nbformat_minor": 0,
  "metadata": {
    "colab": {
      "name": "Copy of  Proyecto AA prueba RandomForest LogistalRegression ",
      "provenance": [],
      "collapsed_sections": [],
      "include_colab_link": true
    },
    "kernelspec": {
      "display_name": "Python 3",
      "name": "python3"
    },
    "language_info": {
      "name": "python"
    }
  },
  "cells": [
    {
      "cell_type": "markdown",
      "metadata": {
        "id": "view-in-github",
        "colab_type": "text"
      },
      "source": [
        "<a href=\"https://colab.research.google.com/github/CyberJuan55/GenderPredict/blob/master/GenderPredict01.ipynb\" target=\"_parent\"><img src=\"https://colab.research.google.com/assets/colab-badge.svg\" alt=\"Open In Colab\"/></a>"
      ]
    },
    {
      "cell_type": "code",
      "metadata": {
        "id": "GeaBo8GXBlVL"
      },
      "source": [
        "import pandas as pd \n",
        "import seaborn as sns\n",
        "import matplotlib.pyplot as plt\n",
        "from sklearn.pipeline import Pipeline\n",
        "from sklearn.pipeline import make_pipeline\n",
        "from sklearn.preprocessing import OneHotEncoder, OrdinalEncoder, LabelEncoder, label_binarize\n",
        "from sklearn.preprocessing import StandardScaler, RobustScaler, Normalizer\n",
        "from sklearn.preprocessing import MinMaxScaler\n",
        "from sklearn.compose import ColumnTransformer\n",
        "from sklearn.svm import LinearSVC\n",
        "from sklearn.multiclass import OneVsRestClassifier\n",
        "from sklearn.model_selection import GridSearchCV\n",
        "from sklearn.linear_model import LogisticRegression\n",
        "from sklearn.tree import DecisionTreeClassifier \n",
        "import numpy as np\n",
        "from sklearn.metrics import accuracy_score, confusion_matrix\n",
        "from scipy import stats\n",
        "\n",
        "urlTrain  = 'https://raw.githubusercontent.com/CyberJuan55/GenderPredict/master/Dataset/SpotifyFeatures.csv_train.csv'\n",
        "urlFull = 'https://github.com/CyberJuan55/GenderPredict/blob/master/Dataset/SpotifyFeatures.csv'\n",
        "urlNuevoDataSet = 'https://github.com/CyberJuan55/GenderPredict/blob/master/Dataset/genres_v2.csv'\n",
        "\n",
        "\n",
        "\n",
        "df_train_original = pd.read_csv(urlTrain)\n",
        "\n",
        "df_train = df_train_original.copy()\n"
      ],
      "execution_count": 1,
      "outputs": []
    },
    {
      "cell_type": "markdown",
      "metadata": {
        "id": "PoEJIv4hqDe1"
      },
      "source": [
        "### Preprocesado de datos y visualizacion "
      ]
    },
    {
      "cell_type": "code",
      "metadata": {
        "id": "7o6tPneUaeji"
      },
      "source": [
        "# Funcion para el preprocesamiento de datos\n",
        "def preprocesado(df,out=False):\n",
        "\n",
        "    df.drop_duplicates()\n",
        "    df.dropna(axis=0, inplace=True)\n",
        "\n",
        "    #if df.duplicated().sum() == 0:\n",
        "        #print('no hay datos duplicados')\n",
        "    #else:\n",
        "        #df.drop_duplicates\n",
        "    #if 'Unnamed: 0' in df.columns:\n",
        "        #df = df.drop(['Unnamed: 0'], axis=1)\n",
        "\n",
        "    x = ['genre','popularity','acousticness','danceability','duration_ms','energy','instrumentalness','key','liveness','loudness','mode',\n",
        "       'speechiness', 'tempo','valence'] \n",
        "\n",
        "    df = df[x] \n",
        "\n",
        "    df['genre']= df['genre'].replace([\"Children’s Music\"],\"Children's Music\")\n",
        "\n",
        "    #indexNamesChildren = df[ df['genre'] == \"Children's Music\" ].index\n",
        "    #df.drop(indexNamesChildren , inplace=True)\n",
        "\n",
        "    indexNamesAcapella = df[ df['genre'] == \"A Capella\"].index\n",
        "    df.drop(indexNamesAcapella , inplace=True)\n",
        "#-------------------------------------------------------------------------------\n",
        " \n",
        "\n",
        "    #indexPOP = df[df.popularity==0].index\n",
        "    #df.drop(indexPOP , inplace=True)\n",
        "\n",
        "    #indexACO = df[df.acousticness < 0.02] .index\n",
        "    #df.drop(indexACO , inplace=True)\n",
        "    #indexACO1 = df[df.acousticness > 0.98] .index\n",
        "    #df.drop(indexACO1 , inplace=True)\n",
        "\n",
        "    #indexVAL = df[df.valence < 0.08] .index\n",
        "    #df.drop(indexVAL , inplace=True)\n",
        "    #indexVAL1 = df[df.valence > 0.9] .index\n",
        "    #df.drop(indexVAL1 , inplace=True)\n",
        "#-------------------------------------------------------------------------------\n",
        "\n",
        "    #cols_with_missing = [col for col in df.columns if df[col].isnull().any()] \n",
        "    #faltanDatos = True\n",
        "    #if len(cols_with_missing)==0:\n",
        "        #faltanDatos= False\n",
        "        #print('no faltan valores') \n",
        "    #if faltanDatos == True:\n",
        "        #print(cols_with_missing)\n",
        "        #df.dropna(axis=0, inplace=True)\n",
        "#-------------------------------------------------------------------------------\n",
        "    \n",
        "\n",
        "    if out == True:\n",
        "        labelencoder = LabelEncoder()\n",
        "        df[\"genre\"] = labelencoder.fit_transform(df[\"genre\"])\n",
        "\n",
        "        df_train_genres = df\n",
        "        generos=list(df_train['genre'].unique())\n",
        "\n",
        "        b = []\n",
        "        for i in generos:\n",
        "            df=df_train_genres[df_train_genres[\"genre\"]==i].drop(columns=[\"genre\",\"mode\",\"key\"])\n",
        "     \n",
        "            z = np.abs(stats.zscore(df))\n",
        "            a=np.where(z > 3)\n",
        "            outliers=list(set(list(a[0])))\n",
        "            ñ = [df.iloc[x,:].name for x in outliers]\n",
        "            b = ñ + b\n",
        "        df_train_genres.drop(b, axis = 0, inplace = True)\n",
        "\n",
        "        df = df_train_genres\n",
        "#-------------------------------------------------------------------------------\n",
        "    y = df['genre']    \n",
        "    X = df.drop(columns=['genre'])\n",
        "#-------------------------------------------------------------------------------   \n",
        "    return X,y \n"
      ],
      "execution_count": 2,
      "outputs": []
    },
    {
      "cell_type": "code",
      "metadata": {
        "id": "Bz1kZMM683DZ",
        "colab": {
          "base_uri": "https://localhost:8080/"
        },
        "outputId": "8b3f24e2-c8af-4b42-b376-ead20355f714"
      },
      "source": [
        "df_train,y = preprocesado(df_train,out=True)"
      ],
      "execution_count": 3,
      "outputs": [
        {
          "output_type": "stream",
          "name": "stderr",
          "text": [
            "/usr/local/lib/python3.7/dist-packages/ipykernel_launcher.py:19: SettingWithCopyWarning: \n",
            "A value is trying to be set on a copy of a slice from a DataFrame.\n",
            "Try using .loc[row_indexer,col_indexer] = value instead\n",
            "\n",
            "See the caveats in the documentation: https://pandas.pydata.org/pandas-docs/stable/user_guide/indexing.html#returning-a-view-versus-a-copy\n",
            "/usr/local/lib/python3.7/dist-packages/pandas/core/frame.py:4174: SettingWithCopyWarning: \n",
            "A value is trying to be set on a copy of a slice from a DataFrame\n",
            "\n",
            "See the caveats in the documentation: https://pandas.pydata.org/pandas-docs/stable/user_guide/indexing.html#returning-a-view-versus-a-copy\n",
            "  errors=errors,\n",
            "/usr/local/lib/python3.7/dist-packages/ipykernel_launcher.py:56: SettingWithCopyWarning: \n",
            "A value is trying to be set on a copy of a slice from a DataFrame.\n",
            "Try using .loc[row_indexer,col_indexer] = value instead\n",
            "\n",
            "See the caveats in the documentation: https://pandas.pydata.org/pandas-docs/stable/user_guide/indexing.html#returning-a-view-versus-a-copy\n",
            "/usr/local/lib/python3.7/dist-packages/scipy/stats/stats.py:2416: RuntimeWarning: Mean of empty slice.\n",
            "  mns = a.mean(axis=axis, keepdims=True)\n",
            "/usr/local/lib/python3.7/dist-packages/numpy/core/_methods.py:163: RuntimeWarning: invalid value encountered in true_divide\n",
            "  ret, rcount, out=ret, casting='unsafe', subok=False)\n",
            "/usr/local/lib/python3.7/dist-packages/numpy/core/_methods.py:234: RuntimeWarning: Degrees of freedom <= 0 for slice\n",
            "  keepdims=keepdims)\n",
            "/usr/local/lib/python3.7/dist-packages/numpy/core/_methods.py:195: RuntimeWarning: invalid value encountered in true_divide\n",
            "  arrmean, rcount, out=arrmean, casting='unsafe', subok=False)\n",
            "/usr/local/lib/python3.7/dist-packages/numpy/core/_methods.py:224: RuntimeWarning: invalid value encountered in true_divide\n",
            "  ret, rcount, out=ret, casting='unsafe', subok=False)\n"
          ]
        }
      ]
    },
    {
      "cell_type": "code",
      "metadata": {
        "colab": {
          "base_uri": "https://localhost:8080/",
          "height": 761
        },
        "id": "cM9fTvefyotR",
        "outputId": "3f0db4dd-4177-42a4-cfd3-a1d5ab3cce5f"
      },
      "source": [
        "y.hist(bins=100, figsize=(25,15))"
      ],
      "execution_count": 4,
      "outputs": [
        {
          "output_type": "execute_result",
          "data": {
            "text/plain": [
              "<matplotlib.axes._subplots.AxesSubplot at 0x7fb6d522ca50>"
            ]
          },
          "metadata": {},
          "execution_count": 4
        },
        {
          "output_type": "display_data",
          "data": {
            "image/png": "[encoded data removed]",
            "text/plain": [
              "<Figure size 1800x1080 with 1 Axes>"
            ]
          },
          "metadata": {
            "needs_background": "light"
          }
        }
      ]
    },
    {
      "cell_type": "code",
      "metadata": {
        "id": "AAJqpQSt3vT8",
        "colab": {
          "base_uri": "https://localhost:8080/",
          "height": 977
        },
        "outputId": "bf3e6df0-0b82-41ae-cf1c-d114b58c4ba8"
      },
      "source": [
        "df_train.hist(bins=500, figsize=(25,15))"
      ],
      "execution_count": 5,
      "outputs": [
        {
          "output_type": "execute_result",
          "data": {
            "text/plain": [
              "array([[<matplotlib.axes._subplots.AxesSubplot object at 0x7fb6d50d8810>,\n",
              "        <matplotlib.axes._subplots.AxesSubplot object at 0x7fb6d4ba2f90>,\n",
              "        <matplotlib.axes._subplots.AxesSubplot object at 0x7fb6d4b605d0>],\n",
              "       [<matplotlib.axes._subplots.AxesSubplot object at 0x7fb6d4b96bd0>,\n",
              "        <matplotlib.axes._subplots.AxesSubplot object at 0x7fb6d4b56e90>,\n",
              "        <matplotlib.axes._subplots.AxesSubplot object at 0x7fb6d4b0f810>],\n",
              "       [<matplotlib.axes._subplots.AxesSubplot object at 0x7fb6d4ac4e10>,\n",
              "        <matplotlib.axes._subplots.AxesSubplot object at 0x7fb6d4a86450>,\n",
              "        <matplotlib.axes._subplots.AxesSubplot object at 0x7fb6d4a91110>],\n",
              "       [<matplotlib.axes._subplots.AxesSubplot object at 0x7fb6d4a47850>,\n",
              "        <matplotlib.axes._subplots.AxesSubplot object at 0x7fb6d49b7690>,\n",
              "        <matplotlib.axes._subplots.AxesSubplot object at 0x7fb6d496cc90>]],\n",
              "      dtype=object)"
            ]
          },
          "metadata": {},
          "execution_count": 5
        },
        {
          "output_type": "display_data",
          "data": {
            "image/png": "[encoded data removed]",
            "text/plain": [
              "<Figure size 1800x1080 with 12 Axes>"
            ]
          },
          "metadata": {
            "needs_background": "light"
          }
        }
      ]
    },
    {
      "cell_type": "code",
      "metadata": {
        "id": "Bir7xFjZx9tQ"
      },
      "source": [
        "#Borrar variables categoricas\n",
        "df_train = df_train.drop(['mode',\"key\"], axis=1) "
      ],
      "execution_count": 6,
      "outputs": []
    },
    {
      "cell_type": "code",
      "metadata": {
        "id": "EHMElHKWg04A"
      },
      "source": [
        "from sklearn.model_selection import train_test_split, GridSearchCV, cross_val_score, cross_val_predict\n",
        "X_train_full, X_valid_full, y_train, y_valid = train_test_split(df_train, y, \n",
        "                                                                train_size=0.7, test_size=0.3,\n",
        "                                                                random_state=42)"
      ],
      "execution_count": 7,
      "outputs": []
    },
    {
      "cell_type": "code",
      "metadata": {
        "id": "qy0PcAAXR3A_"
      },
      "source": [
        "df_train_num = df_train.drop(['mode',\"key\"], axis=1) "
      ],
      "execution_count": 12,
      "outputs": []
    },
    {
      "cell_type": "code",
      "metadata": {
        "id": "lwlGFXS4fIho"
      },
      "source": [
        "from sklearn.pipeline import Pipeline\n",
        "from sklearn.preprocessing import OneHotEncoder, OrdinalEncoder\n",
        "from sklearn.preprocessing import StandardScaler\n",
        "from sklearn.compose import ColumnTransformer\n",
        "\n",
        "num_pipeline = Pipeline([\n",
        "        #('mismax_scaler', MinMaxScaler()),\n",
        "        #('standar_scaler', StandardScaler()),\n",
        "        ('Robust_scaler', RobustScaler()),\n",
        "        #('Normalize', Normalizer()),\n",
        "    ])\n",
        "#cat_attribs1 = [\"key\"]\n",
        "#cat_attribs2 = [\"mode\"]\n",
        "#cat_attribs3 = [\"time_signature\"]\n",
        "num_attribs = list(df_train)\n",
        "\n",
        "full_pipeline = ColumnTransformer([\n",
        "        ('numerical', num_pipeline, num_attribs),                          \n",
        "        #(\"cat\", OneHotEncoder(), cat_attribs1),\n",
        "        #(\"cat1\", OrdinalEncoder(), cat_attribs2),\n",
        "        #(\"cat3\", OneHotEncoder(), cat_attribs3),\n",
        "    ])"
      ],
      "execution_count": 8,
      "outputs": []
    },
    {
      "cell_type": "code",
      "metadata": {
        "id": "fMcA7Eswgwlz"
      },
      "source": [
        "df_train_processed = full_pipeline.fit_transform(df_train)"
      ],
      "execution_count": 9,
      "outputs": []
    },
    {
      "cell_type": "code",
      "metadata": {
        "colab": {
          "base_uri": "https://localhost:8080/"
        },
        "id": "56VdeIbM1fgA",
        "outputId": "842e5788-746c-48e6-f694-6e096fdece4a"
      },
      "source": [
        "df_train_processed"
      ],
      "execution_count": 10,
      "outputs": [
        {
          "output_type": "execute_result",
          "data": {
            "text/plain": [
              "array([[-1.42307692,  0.97618004, -1.65625   , ..., -0.17460317,\n",
              "         0.4748899 , -0.98293839],\n",
              "       [-0.61538462, -0.32861318,  1.1171875 , ...,  0.64935065,\n",
              "        -0.42581267,  0.33649289],\n",
              "       [ 0.61538462,  0.06283794, -0.20703125, ..., -0.16738817,\n",
              "        -0.88000997, -0.66824645],\n",
              "       ...,\n",
              "       [ 1.11538462, -0.33479468,  0.140625  , ...,  0.62770563,\n",
              "         0.396258  , -0.59004739],\n",
              "       [ 0.76923077, -0.00730674,  0.36328125, ...,  0.97979798,\n",
              "        -0.0535191 ,  0.88151659],\n",
              "       [-0.57692308,  0.53193044, -1.59375   , ..., -0.09379509,\n",
              "         0.83816973, -0.7535545 ]])"
            ]
          },
          "metadata": {},
          "execution_count": 10
        }
      ]
    },
    {
      "cell_type": "markdown",
      "metadata": {
        "id": "1mIADrXyREWn"
      },
      "source": [
        "##PCA"
      ]
    },
    {
      "cell_type": "code",
      "metadata": {
        "id": "CWUEHtmP3dqs"
      },
      "source": [
        "a = pd.DataFrame(df_train_processed)"
      ],
      "execution_count": 12,
      "outputs": []
    },
    {
      "cell_type": "code",
      "metadata": {
        "colab": {
          "base_uri": "https://localhost:8080/",
          "height": 419
        },
        "id": "Ue5nLyEl2Dg2",
        "outputId": "5902f638-d313-4624-ea3a-9b5b9bf7489b"
      },
      "source": [
        "a"
      ],
      "execution_count": 13,
      "outputs": [
        {
          "output_type": "execute_result",
          "data": {
            "text/html": [
              "<div>\n",
              "<style scoped>\n",
              "    .dataframe tbody tr th:only-of-type {\n",
              "        vertical-align: middle;\n",
              "    }\n",
              "\n",
              "    .dataframe tbody tr th {\n",
              "        vertical-align: top;\n",
              "    }\n",
              "\n",
              "    .dataframe thead th {\n",
              "        text-align: right;\n",
              "    }\n",
              "</style>\n",
              "<table border=\"1\" class=\"dataframe\">\n",
              "  <thead>\n",
              "    <tr style=\"text-align: right;\">\n",
              "      <th></th>\n",
              "      <th>0</th>\n",
              "      <th>1</th>\n",
              "      <th>2</th>\n",
              "      <th>3</th>\n",
              "      <th>4</th>\n",
              "      <th>5</th>\n",
              "      <th>6</th>\n",
              "      <th>7</th>\n",
              "      <th>8</th>\n",
              "      <th>9</th>\n",
              "      <th>10</th>\n",
              "    </tr>\n",
              "  </thead>\n",
              "  <tbody>\n",
              "    <tr>\n",
              "      <th>0</th>\n",
              "      <td>-1.423077</td>\n",
              "      <td>0.976180</td>\n",
              "      <td>-1.656250</td>\n",
              "      <td>-1.068026</td>\n",
              "      <td>-1.471322</td>\n",
              "      <td>26.599876</td>\n",
              "      <td>-0.234694</td>\n",
              "      <td>-2.640510</td>\n",
              "      <td>-0.174603</td>\n",
              "      <td>0.474890</td>\n",
              "      <td>-0.982938</td>\n",
              "    </tr>\n",
              "    <tr>\n",
              "      <th>1</th>\n",
              "      <td>-0.615385</td>\n",
              "      <td>-0.328613</td>\n",
              "      <td>1.117187</td>\n",
              "      <td>0.418924</td>\n",
              "      <td>-0.017456</td>\n",
              "      <td>0.001152</td>\n",
              "      <td>0.486194</td>\n",
              "      <td>0.332376</td>\n",
              "      <td>0.649351</td>\n",
              "      <td>-0.425813</td>\n",
              "      <td>0.336493</td>\n",
              "    </tr>\n",
              "    <tr>\n",
              "      <th>2</th>\n",
              "      <td>0.615385</td>\n",
              "      <td>0.062838</td>\n",
              "      <td>-0.207031</td>\n",
              "      <td>0.175063</td>\n",
              "      <td>-0.152120</td>\n",
              "      <td>-0.000598</td>\n",
              "      <td>0.330132</td>\n",
              "      <td>-0.021053</td>\n",
              "      <td>-0.167388</td>\n",
              "      <td>-0.880010</td>\n",
              "      <td>-0.668246</td>\n",
              "    </tr>\n",
              "    <tr>\n",
              "      <th>3</th>\n",
              "      <td>0.384615</td>\n",
              "      <td>0.530469</td>\n",
              "      <td>-0.121094</td>\n",
              "      <td>-0.080166</td>\n",
              "      <td>0.022444</td>\n",
              "      <td>22.554933</td>\n",
              "      <td>-0.048019</td>\n",
              "      <td>-0.239713</td>\n",
              "      <td>-0.232323</td>\n",
              "      <td>-0.487609</td>\n",
              "      <td>-0.485782</td>\n",
              "    </tr>\n",
              "    <tr>\n",
              "      <th>4</th>\n",
              "      <td>-1.346154</td>\n",
              "      <td>1.058015</td>\n",
              "      <td>-0.812500</td>\n",
              "      <td>-0.604475</td>\n",
              "      <td>-1.022444</td>\n",
              "      <td>0.001983</td>\n",
              "      <td>3.337335</td>\n",
              "      <td>-1.262201</td>\n",
              "      <td>-0.070707</td>\n",
              "      <td>-1.137292</td>\n",
              "      <td>-0.457346</td>\n",
              "    </tr>\n",
              "    <tr>\n",
              "      <th>...</th>\n",
              "      <td>...</td>\n",
              "      <td>...</td>\n",
              "      <td>...</td>\n",
              "      <td>...</td>\n",
              "      <td>...</td>\n",
              "      <td>...</td>\n",
              "      <td>...</td>\n",
              "      <td>...</td>\n",
              "      <td>...</td>\n",
              "      <td>...</td>\n",
              "      <td>...</td>\n",
              "    </tr>\n",
              "    <tr>\n",
              "      <th>186079</th>\n",
              "      <td>-0.038462</td>\n",
              "      <td>0.774514</td>\n",
              "      <td>-0.417969</td>\n",
              "      <td>2.485468</td>\n",
              "      <td>0.915212</td>\n",
              "      <td>-0.001247</td>\n",
              "      <td>4.723890</td>\n",
              "      <td>0.442584</td>\n",
              "      <td>12.754690</td>\n",
              "      <td>-0.780707</td>\n",
              "      <td>-0.566351</td>\n",
              "    </tr>\n",
              "    <tr>\n",
              "      <th>186080</th>\n",
              "      <td>-0.500000</td>\n",
              "      <td>-0.304837</td>\n",
              "      <td>0.496094</td>\n",
              "      <td>0.214603</td>\n",
              "      <td>0.004988</td>\n",
              "      <td>0.529652</td>\n",
              "      <td>-0.150060</td>\n",
              "      <td>0.391388</td>\n",
              "      <td>1.253968</td>\n",
              "      <td>-0.878753</td>\n",
              "      <td>0.360190</td>\n",
              "    </tr>\n",
              "    <tr>\n",
              "      <th>186081</th>\n",
              "      <td>1.115385</td>\n",
              "      <td>-0.334795</td>\n",
              "      <td>0.140625</td>\n",
              "      <td>1.267212</td>\n",
              "      <td>0.516209</td>\n",
              "      <td>0.023472</td>\n",
              "      <td>1.062425</td>\n",
              "      <td>0.308772</td>\n",
              "      <td>0.627706</td>\n",
              "      <td>0.396258</td>\n",
              "      <td>-0.590047</td>\n",
              "    </tr>\n",
              "    <tr>\n",
              "      <th>186082</th>\n",
              "      <td>0.769231</td>\n",
              "      <td>-0.007307</td>\n",
              "      <td>0.363281</td>\n",
              "      <td>0.407026</td>\n",
              "      <td>-0.635910</td>\n",
              "      <td>-0.001180</td>\n",
              "      <td>-0.132053</td>\n",
              "      <td>-0.697767</td>\n",
              "      <td>0.979798</td>\n",
              "      <td>-0.053519</td>\n",
              "      <td>0.881517</td>\n",
              "    </tr>\n",
              "    <tr>\n",
              "      <th>186083</th>\n",
              "      <td>-0.576923</td>\n",
              "      <td>0.531930</td>\n",
              "      <td>-1.593750</td>\n",
              "      <td>-0.703483</td>\n",
              "      <td>-0.413965</td>\n",
              "      <td>25.532461</td>\n",
              "      <td>0.084034</td>\n",
              "      <td>-0.336842</td>\n",
              "      <td>-0.093795</td>\n",
              "      <td>0.838170</td>\n",
              "      <td>-0.753555</td>\n",
              "    </tr>\n",
              "  </tbody>\n",
              "</table>\n",
              "<p>186084 rows × 11 columns</p>\n",
              "</div>"
            ],
            "text/plain": [
              "              0         1         2   ...         8         9         10\n",
              "0      -1.423077  0.976180 -1.656250  ...  -0.174603  0.474890 -0.982938\n",
              "1      -0.615385 -0.328613  1.117187  ...   0.649351 -0.425813  0.336493\n",
              "2       0.615385  0.062838 -0.207031  ...  -0.167388 -0.880010 -0.668246\n",
              "3       0.384615  0.530469 -0.121094  ...  -0.232323 -0.487609 -0.485782\n",
              "4      -1.346154  1.058015 -0.812500  ...  -0.070707 -1.137292 -0.457346\n",
              "...          ...       ...       ...  ...        ...       ...       ...\n",
              "186079 -0.038462  0.774514 -0.417969  ...  12.754690 -0.780707 -0.566351\n",
              "186080 -0.500000 -0.304837  0.496094  ...   1.253968 -0.878753  0.360190\n",
              "186081  1.115385 -0.334795  0.140625  ...   0.627706  0.396258 -0.590047\n",
              "186082  0.769231 -0.007307  0.363281  ...   0.979798 -0.053519  0.881517\n",
              "186083 -0.576923  0.531930 -1.593750  ...  -0.093795  0.838170 -0.753555\n",
              "\n",
              "[186084 rows x 11 columns]"
            ]
          },
          "metadata": {},
          "execution_count": 13
        }
      ]
    },
    {
      "cell_type": "code",
      "metadata": {
        "id": "MG-tbAvK_Z9_",
        "colab": {
          "base_uri": "https://localhost:8080/",
          "height": 979
        },
        "outputId": "b44f2e9d-08b2-4c5f-ca33-92989f1bab01"
      },
      "source": [
        "a.hist(bins=500, figsize=(25,15))"
      ],
      "execution_count": 14,
      "outputs": [
        {
          "output_type": "execute_result",
          "data": {
            "text/plain": [
              "array([[<matplotlib.axes._subplots.AxesSubplot object at 0x7fb6d0f6f910>,\n",
              "        <matplotlib.axes._subplots.AxesSubplot object at 0x7fb6d0e61dd0>,\n",
              "        <matplotlib.axes._subplots.AxesSubplot object at 0x7fb6d0db9050>],\n",
              "       [<matplotlib.axes._subplots.AxesSubplot object at 0x7fb6d0d130d0>,\n",
              "        <matplotlib.axes._subplots.AxesSubplot object at 0x7fb6d0bf8650>,\n",
              "        <matplotlib.axes._subplots.AxesSubplot object at 0x7fb6d092a750>],\n",
              "       [<matplotlib.axes._subplots.AxesSubplot object at 0x7fb6d096cc50>,\n",
              "        <matplotlib.axes._subplots.AxesSubplot object at 0x7fb6d09f2110>,\n",
              "        <matplotlib.axes._subplots.AxesSubplot object at 0x7fb6d09f2d90>],\n",
              "       [<matplotlib.axes._subplots.AxesSubplot object at 0x7fb6d0b15410>,\n",
              "        <matplotlib.axes._subplots.AxesSubplot object at 0x7fb6d04a7cd0>,\n",
              "        <matplotlib.axes._subplots.AxesSubplot object at 0x7fb6d04bc550>]],\n",
              "      dtype=object)"
            ]
          },
          "metadata": {},
          "execution_count": 14
        },
        {
          "output_type": "display_data",
          "data": {
            "image/png": "[encoded data removed]",
            "text/plain": [
              "<Figure size 1800x1080 with 12 Axes>"
            ]
          },
          "metadata": {
            "needs_background": "light"
          }
        }
      ]
    },
    {
      "cell_type": "code",
      "metadata": {
        "id": "6CtFEC3q25cd"
      },
      "source": [
        ""
      ],
      "execution_count": null,
      "outputs": []
    },
    {
      "cell_type": "code",
      "metadata": {
        "id": "L7yb3nrs3wDE",
        "colab": {
          "base_uri": "https://localhost:8080/",
          "height": 947
        },
        "outputId": "8290a395-ea3d-4ad6-d56a-dee9be9e3b41"
      },
      "source": [
        "f = plt.figure(figsize=[19,15])\n",
        "plt.matshow(a.corr(),fignum=f.number)\n",
        "plt.xticks(range(a.shape[1]),df_train.columns,rotation=45)\n",
        "plt.yticks(range(a.shape[1]),df_train.columns)\n",
        "cb = plt.colorbar()\n",
        "cb.ax.tick_params(labelsize=14)"
      ],
      "execution_count": 29,
      "outputs": [
        {
          "output_type": "display_data",
          "data": {
            "image/png": "[encoded data removed]",
            "text/plain": [
              "<Figure size 1368x1080 with 2 Axes>"
            ]
          },
          "metadata": {
            "needs_background": "light"
          }
        }
      ]
    },
    {
      "cell_type": "code",
      "metadata": {
        "id": "g64ScNLWAwdW"
      },
      "source": [
        "from sklearn.decomposition import PCA\n",
        "dim=[]\n",
        "var=[]\n",
        "for comp in range(3, df_train_processed.shape[1]):\n",
        "    dim.append(comp)\n",
        "    pca = PCA(n_components= comp, random_state=42)\n",
        "    pca.fit(df_train_processed)\n",
        "    comp_check = pca.explained_variance_ratio_\n",
        "    var.append(sum(comp_check))\n",
        "    final_comp = comp\n",
        "    if comp_check.sum() > 0.99:\n",
        "        break"
      ],
      "execution_count": 19,
      "outputs": []
    },
    {
      "cell_type": "code",
      "metadata": {
        "id": "RwP9OU7hNOxw"
      },
      "source": [
        "from sklearn.decomposition import PCA\n",
        "pca = PCA()\n",
        "#n_components= 9, random_state=42"
      ],
      "execution_count": 20,
      "outputs": []
    },
    {
      "cell_type": "code",
      "metadata": {
        "id": "jrw7pYBboVaL",
        "colab": {
          "base_uri": "https://localhost:8080/"
        },
        "outputId": "ac44629a-2e18-4313-9a23-2b1692fe2c72"
      },
      "source": [
        "pca.fit(a)\n"
      ],
      "execution_count": 21,
      "outputs": [
        {
          "output_type": "execute_result",
          "data": {
            "text/plain": [
              "PCA()"
            ]
          },
          "metadata": {},
          "execution_count": 21
        }
      ]
    },
    {
      "cell_type": "code",
      "metadata": {
        "id": "q4Ilp_dVon_e"
      },
      "source": [
        "x_pca = pca.transform(a)"
      ],
      "execution_count": 22,
      "outputs": []
    },
    {
      "cell_type": "code",
      "metadata": {
        "id": "WJHCzzIipwrM",
        "colab": {
          "base_uri": "https://localhost:8080/"
        },
        "outputId": "1c0c80c9-a4ec-4eca-8cfe-6b8212c98c85"
      },
      "source": [
        "print(x_pca.shape)\n",
        "print(x_pca)"
      ],
      "execution_count": 23,
      "outputs": [
        {
          "output_type": "stream",
          "name": "stdout",
          "text": [
            "(186084, 24)\n",
            "[[-3.23416244e-01  6.24824866e-01 -1.43735948e-01 ...  1.15477620e-03\n",
            "  -1.82501215e-03  1.37220957e-16]\n",
            " [-9.64868427e-02 -4.96808674e-01 -7.69232621e-02 ...  3.92792272e-02\n",
            "  -1.55007661e-01  8.17098062e-17]\n",
            " [-3.26988768e-01  1.99449077e-02  3.10677175e-01 ...  5.57019425e-02\n",
            "   1.93152602e-02 -2.51357101e-16]\n",
            " ...\n",
            " [ 7.76950223e-01 -1.57950294e-01 -1.02469165e-01 ...  6.07178494e-02\n",
            "   9.44333058e-02  2.39840078e-16]\n",
            " [-3.68877350e-01 -3.42248443e-01  2.30048910e-01 ...  1.91324710e-01\n",
            "  -1.65546555e-01  2.20487684e-16]\n",
            " [ 5.64878132e-01  8.64839727e-01 -7.00662868e-02 ... -2.35835811e-02\n",
            "  -2.01609329e-02  8.32667268e-17]]\n"
          ]
        }
      ]
    },
    {
      "cell_type": "code",
      "metadata": {
        "id": "JsN3krUqrDjr",
        "colab": {
          "base_uri": "https://localhost:8080/",
          "height": 297
        },
        "outputId": "609eb30d-282a-45dd-85f2-5022fbaedc95"
      },
      "source": [
        "# con .explained_variance_ratio_ vemos la fracción de información que aporta cada componente\n",
        "evr = pca.explained_variance_ratio_\n",
        "\n",
        "# Graficamos la fracción de varianza que aporta cada componente\n",
        "# y la información acumulada\n",
        "fig, ax = plt.subplots(1, 2, figsize = (12, 4))\n",
        "\n",
        "ax[0].plot(range(1, len(evr) + 1), evr, '.-', markersize = 20)\n",
        "ax[0].set_ylabel('Fracción de varianza explicada')\n",
        "ax[0].set_xlabel('Número de componente principal')\n",
        "\n",
        "# Calculamos el acumulado con la función cumsum de numpy \n",
        "varianza_acumulada = np.cumsum(evr)\n",
        "\n",
        "ax[1].plot(range(1, len(evr) + 1), varianza_acumulada, '.-', markersize = 20)\n",
        "ax[1].set_ylabel('Fracción acumulada de varianza explicada')\n",
        "ax[1].set_xlabel('Cantidad de componentes principales')"
      ],
      "execution_count": 24,
      "outputs": [
        {
          "output_type": "execute_result",
          "data": {
            "text/plain": [
              "Text(0.5, 0, 'Cantidad de componentes principales')"
            ]
          },
          "metadata": {},
          "execution_count": 24
        },
        {
          "output_type": "display_data",
          "data": {
            "image/png": "[encoded data removed]",
            "text/plain": [
              "<Figure size 864x288 with 2 Axes>"
            ]
          },
          "metadata": {
            "needs_background": "light"
          }
        }
      ]
    },
    {
      "cell_type": "code",
      "metadata": {
        "id": "NpIC1eFW55Bh"
      },
      "source": [
        "pca = PCA(n_components= 10, random_state=42)\n"
      ],
      "execution_count": null,
      "outputs": []
    },
    {
      "cell_type": "markdown",
      "metadata": {
        "id": "hIFdhSYjQ9ps"
      },
      "source": [
        "##Modelos"
      ]
    },
    {
      "cell_type": "code",
      "metadata": {
        "id": "7rCDk9Uftbwm"
      },
      "source": [
        "lg=LogisticRegression(max_iter=2000, random_state=1, penalty = 'l2', C = 0.01) #onevsrestclassifier"
      ],
      "execution_count": 15,
      "outputs": []
    },
    {
      "cell_type": "code",
      "metadata": {
        "id": "ovxPLYLNlf4S",
        "colab": {
          "base_uri": "https://localhost:8080/"
        },
        "outputId": "fc2a5cf9-d8ac-4846-d56e-ab6fed38065f"
      },
      "source": [
        "from sklearn.pipeline import make_pipeline\n",
        "LGpipe = make_pipeline(full_pipeline,lg)\n",
        "LGpipe.fit(X_train_full,y_train)\n"
      ],
      "execution_count": 16,
      "outputs": [
        {
          "output_type": "execute_result",
          "data": {
            "text/plain": [
              "Pipeline(steps=[('columntransformer',\n",
              "                 ColumnTransformer(transformers=[('numerical',\n",
              "                                                  Pipeline(steps=[('Robust_scaler',\n",
              "                                                                   RobustScaler())]),\n",
              "                                                  ['popularity', 'acousticness',\n",
              "                                                   'danceability',\n",
              "                                                   'duration_ms', 'energy',\n",
              "                                                   'instrumentalness',\n",
              "                                                   'liveness', 'loudness',\n",
              "                                                   'speechiness', 'tempo',\n",
              "                                                   'valence'])])),\n",
              "                ('logisticregression',\n",
              "                 LogisticRegression(C=0.01, max_iter=2000, random_state=1))])"
            ]
          },
          "metadata": {},
          "execution_count": 16
        }
      ]
    },
    {
      "cell_type": "code",
      "metadata": {
        "id": "B7lk5adnShmM"
      },
      "source": [
        "y_predLG = LGpipe.predict(X_valid_full)"
      ],
      "execution_count": 17,
      "outputs": []
    },
    {
      "cell_type": "code",
      "metadata": {
        "id": "adupmKNaSxpy",
        "colab": {
          "base_uri": "https://localhost:8080/"
        },
        "outputId": "b21646a1-ffc9-4705-81ca-16976a9a39cc"
      },
      "source": [
        "print(accuracy_score(y_valid, y_predLG))"
      ],
      "execution_count": 18,
      "outputs": [
        {
          "output_type": "stream",
          "name": "stdout",
          "text": [
            "0.35067889513846595\n"
          ]
        }
      ]
    },
    {
      "cell_type": "code",
      "metadata": {
        "id": "oIR2lbPpn8ao"
      },
      "source": [
        "lg_cross_val = cross_val_score(LGpipe,X_train_full,y_train,cv=5,scoring='accuracy').mean()"
      ],
      "execution_count": null,
      "outputs": []
    },
    {
      "cell_type": "code",
      "metadata": {
        "id": "B_ZJFDzAOfMO",
        "colab": {
          "base_uri": "https://localhost:8080/"
        },
        "outputId": "2b20aa4b-7e4e-45b4-ef46-3e0a56b62689"
      },
      "source": [
        "lg_cross_val"
      ],
      "execution_count": null,
      "outputs": [
        {
          "output_type": "execute_result",
          "data": {
            "text/plain": [
              "0.48673848103557527"
            ]
          },
          "metadata": {},
          "execution_count": 56
        }
      ]
    },
    {
      "cell_type": "code",
      "metadata": {
        "id": "rPZOsxWCrzmM"
      },
      "source": [
        "params = {}\n",
        "\n",
        "params['logisticregression__C'] = [0.1,1,10]\n"
      ],
      "execution_count": null,
      "outputs": []
    },
    {
      "cell_type": "code",
      "metadata": {
        "id": "MEC9so6Assb7"
      },
      "source": [
        "lGgrid = GridSearchCV(LGpipe, params, cv=5,scoring='accuracy' )\n",
        "lGgrid.fit(X_train_full,y_train)"
      ],
      "execution_count": null,
      "outputs": []
    },
    {
      "cell_type": "code",
      "metadata": {
        "colab": {
          "base_uri": "https://localhost:8080/"
        },
        "id": "NZ0InDB300re",
        "outputId": "0f2b5222-2a2d-4e9a-966c-f8c74a7cfebb"
      },
      "source": [
        "lGgrid.best_score_"
      ],
      "execution_count": null,
      "outputs": [
        {
          "output_type": "execute_result",
          "data": {
            "text/plain": [
              "0.47883833693727"
            ]
          },
          "metadata": {},
          "execution_count": 56
        }
      ]
    },
    {
      "cell_type": "markdown",
      "metadata": {
        "id": "vqKhD0onl6l5"
      },
      "source": [
        "### DesicionTree"
      ]
    },
    {
      "cell_type": "code",
      "metadata": {
        "id": "b34tbDw4l9Cg",
        "colab": {
          "base_uri": "https://localhost:8080/"
        },
        "outputId": "bd51a36b-fb16-4aee-9992-f03e2e806566"
      },
      "source": [
        "# Create Decision Tree classifer object\n",
        "dtc = DecisionTreeClassifier(criterion='gini',random_state=0)\n",
        "\n",
        "dtcPipe = make_pipeline(full_pipeline,dtc)\n",
        "dtcPipe.fit(X_train_full,y_train)\n",
        "\n"
      ],
      "execution_count": 26,
      "outputs": [
        {
          "output_type": "execute_result",
          "data": {
            "text/plain": [
              "Pipeline(steps=[('columntransformer',\n",
              "                 ColumnTransformer(transformers=[('numerical',\n",
              "                                                  Pipeline(steps=[('Robust_scaler',\n",
              "                                                                   RobustScaler())]),\n",
              "                                                  ['popularity', 'acousticness',\n",
              "                                                   'danceability',\n",
              "                                                   'duration_ms', 'energy',\n",
              "                                                   'instrumentalness',\n",
              "                                                   'liveness', 'loudness',\n",
              "                                                   'speechiness', 'tempo',\n",
              "                                                   'valence'])])),\n",
              "                ('decisiontreeclassifier',\n",
              "                 DecisionTreeClassifier(random_state=0))])"
            ]
          },
          "metadata": {},
          "execution_count": 26
        }
      ]
    },
    {
      "cell_type": "code",
      "metadata": {
        "id": "a3zqk_WVolfr"
      },
      "source": [
        "y_pred_dtc =  dtcPipe.predict(X_valid_full)"
      ],
      "execution_count": 27,
      "outputs": []
    },
    {
      "cell_type": "code",
      "metadata": {
        "id": "xrDBJYGKoxwZ",
        "colab": {
          "base_uri": "https://localhost:8080/"
        },
        "outputId": "2a863292-a149-4c90-ce21-df4664458fb5"
      },
      "source": [
        "print(accuracy_score(y_valid, y_pred_dtc))"
      ],
      "execution_count": 28,
      "outputs": [
        {
          "output_type": "stream",
          "name": "stdout",
          "text": [
            "0.2837745853186687\n"
          ]
        }
      ]
    },
    {
      "cell_type": "code",
      "metadata": {
        "id": "PVD3L7mHVU5X"
      },
      "source": [
        "dtc_cross_val = cross_val_score(dtcPipe,X_train_full,y_train,cv=5,scoring='accuracy').mean()"
      ],
      "execution_count": null,
      "outputs": []
    },
    {
      "cell_type": "code",
      "metadata": {
        "id": "b73vD82k62QZ",
        "colab": {
          "base_uri": "https://localhost:8080/"
        },
        "outputId": "f977a513-cdab-485d-b6aa-51201b41faa6"
      },
      "source": [
        "dtc_cross_val"
      ],
      "execution_count": null,
      "outputs": [
        {
          "output_type": "execute_result",
          "data": {
            "text/plain": [
              "0.2736076418249154"
            ]
          },
          "metadata": {},
          "execution_count": 110
        }
      ]
    },
    {
      "cell_type": "markdown",
      "metadata": {
        "id": "86J-a0eBl5lS"
      },
      "source": [
        "### RandomForest"
      ]
    },
    {
      "cell_type": "code",
      "metadata": {
        "id": "CfR6kH-iyHTy",
        "colab": {
          "base_uri": "https://localhost:8080/"
        },
        "outputId": "0e986951-0509-4d83-bdf4-8dcd4fac0e3a"
      },
      "source": [
        "from sklearn.ensemble import RandomForestClassifier\n",
        "\n",
        "rfc = RandomForestClassifier(n_estimators=250, random_state=42)\n",
        "\n",
        "rfcPipe = make_pipeline(full_pipeline,rfc)\n",
        "rfcPipe.fit(X_train_full,y_train)\n",
        "\n",
        "\n"
      ],
      "execution_count": 19,
      "outputs": [
        {
          "output_type": "execute_result",
          "data": {
            "text/plain": [
              "Pipeline(steps=[('columntransformer',\n",
              "                 ColumnTransformer(transformers=[('numerical',\n",
              "                                                  Pipeline(steps=[('Robust_scaler',\n",
              "                                                                   RobustScaler())]),\n",
              "                                                  ['popularity', 'acousticness',\n",
              "                                                   'danceability',\n",
              "                                                   'duration_ms', 'energy',\n",
              "                                                   'instrumentalness',\n",
              "                                                   'liveness', 'loudness',\n",
              "                                                   'speechiness', 'tempo',\n",
              "                                                   'valence'])])),\n",
              "                ('randomforestclassifier',\n",
              "                 RandomForestClassifier(n_estimators=250, random_state=42))])"
            ]
          },
          "metadata": {},
          "execution_count": 19
        }
      ]
    },
    {
      "cell_type": "code",
      "metadata": {
        "id": "_e7et2EN4jEs"
      },
      "source": [
        "predict = rfcPipe.predict(X_valid_full)"
      ],
      "execution_count": 20,
      "outputs": []
    },
    {
      "cell_type": "code",
      "metadata": {
        "id": "GhxjxC2n46uE",
        "colab": {
          "base_uri": "https://localhost:8080/"
        },
        "outputId": "ca3c6763-ee5a-4298-bc9d-778fd9359799"
      },
      "source": [
        "print(accuracy_score(y_valid, predict))"
      ],
      "execution_count": 21,
      "outputs": [
        {
          "output_type": "stream",
          "name": "stdout",
          "text": [
            "0.3844086984559166\n"
          ]
        }
      ]
    },
    {
      "cell_type": "code",
      "metadata": {
        "id": "GMwz_mbXIhdN"
      },
      "source": [
        "from sklearn.metrics import roc_auc_score\n",
        "\n"
      ],
      "execution_count": null,
      "outputs": []
    },
    {
      "cell_type": "code",
      "metadata": {
        "id": "EvEzWycTVbLU"
      },
      "source": [
        "rfc_cross_val = cross_val_score(rfcPipe,X_train_full,y_train,cv=5,scoring='accuracy')"
      ],
      "execution_count": null,
      "outputs": []
    },
    {
      "cell_type": "code",
      "metadata": {
        "id": "OUrp9YP-78y8",
        "colab": {
          "base_uri": "https://localhost:8080/"
        },
        "outputId": "4414b531-934c-4b21-a1bb-a3949d0ad678"
      },
      "source": [
        "rfc_cross_val"
      ],
      "execution_count": null,
      "outputs": [
        {
          "output_type": "execute_result",
          "data": {
            "text/plain": [
              "array([0.57264416, 0.56802752, 0.57137684, 0.57409251, 0.56748438])"
            ]
          },
          "metadata": {},
          "execution_count": 61
        }
      ]
    },
    {
      "cell_type": "code",
      "metadata": {
        "id": "z5Vfk2rDyLEG"
      },
      "source": [
        "predict = rfc.predict(X_valid_full)\n",
        "print(accuracy_score(y_valid, predict))"
      ],
      "execution_count": null,
      "outputs": []
    },
    {
      "cell_type": "markdown",
      "metadata": {
        "id": "Q5FxtF6bnwmR"
      },
      "source": [
        "###KNN"
      ]
    },
    {
      "cell_type": "code",
      "metadata": {
        "id": "yvYNtdFT7OfL",
        "colab": {
          "base_uri": "https://localhost:8080/",
          "height": 245
        },
        "outputId": "54dd89f9-f7f4-45cd-d7ff-4d429f5341eb"
      },
      "source": [
        "from sklearn.neighbors import KNeighborsClassifier\n",
        "knn = KNeighborsClassifier(n_neighbors = 50)\n",
        "knnPipe = make_pipeline(full_pipeline,pca,knn)\n",
        "knnPipe.fit(X_train_full, y_train)\n",
        "#y_pred_knn = knn.predict(X_valid_full)\n",
        "#print(accuracy_score(y_valid, y_pred_knn))\n"
      ],
      "execution_count": null,
      "outputs": [
        {
          "output_type": "error",
          "ename": "NameError",
          "evalue": "ignored",
          "traceback": [
            "\u001b[0;31m---------------------------------------------------------------------------\u001b[0m",
            "\u001b[0;31mNameError\u001b[0m                                 Traceback (most recent call last)",
            "\u001b[0;32m<ipython-input-41-9c24cafab9f6>\u001b[0m in \u001b[0;36m<module>\u001b[0;34m()\u001b[0m\n\u001b[1;32m      1\u001b[0m \u001b[0;32mfrom\u001b[0m \u001b[0msklearn\u001b[0m\u001b[0;34m.\u001b[0m\u001b[0mneighbors\u001b[0m \u001b[0;32mimport\u001b[0m \u001b[0mKNeighborsClassifier\u001b[0m\u001b[0;34m\u001b[0m\u001b[0;34m\u001b[0m\u001b[0m\n\u001b[1;32m      2\u001b[0m \u001b[0mknn\u001b[0m \u001b[0;34m=\u001b[0m \u001b[0mKNeighborsClassifier\u001b[0m\u001b[0;34m(\u001b[0m\u001b[0mn_neighbors\u001b[0m \u001b[0;34m=\u001b[0m \u001b[0;36m50\u001b[0m\u001b[0;34m)\u001b[0m\u001b[0;34m\u001b[0m\u001b[0;34m\u001b[0m\u001b[0m\n\u001b[0;32m----> 3\u001b[0;31m \u001b[0mknnPipe\u001b[0m \u001b[0;34m=\u001b[0m \u001b[0mmake_pipeline\u001b[0m\u001b[0;34m(\u001b[0m\u001b[0mfull_pipeline\u001b[0m\u001b[0;34m,\u001b[0m\u001b[0mpca\u001b[0m\u001b[0;34m,\u001b[0m\u001b[0mknn\u001b[0m\u001b[0;34m)\u001b[0m\u001b[0;34m\u001b[0m\u001b[0;34m\u001b[0m\u001b[0m\n\u001b[0m\u001b[1;32m      4\u001b[0m \u001b[0mknnPipe\u001b[0m\u001b[0;34m.\u001b[0m\u001b[0mfit\u001b[0m\u001b[0;34m(\u001b[0m\u001b[0mX_train_full\u001b[0m\u001b[0;34m,\u001b[0m \u001b[0my_train\u001b[0m\u001b[0;34m)\u001b[0m\u001b[0;34m\u001b[0m\u001b[0;34m\u001b[0m\u001b[0m\n\u001b[1;32m      5\u001b[0m \u001b[0;31m#y_pred_knn = knn.predict(X_valid_full)\u001b[0m\u001b[0;34m\u001b[0m\u001b[0;34m\u001b[0m\u001b[0;34m\u001b[0m\u001b[0m\n",
            "\u001b[0;31mNameError\u001b[0m: name 'pca' is not defined"
          ]
        }
      ]
    },
    {
      "cell_type": "code",
      "metadata": {
        "id": "PbnTlBrV-4-I",
        "colab": {
          "base_uri": "https://localhost:8080/"
        },
        "outputId": "cdc2043d-4167-422a-81f5-48fd136caf3b"
      },
      "source": [
        "y_pred_knn = knnPipe.predict(X_valid_full)\n",
        "print(accuracy_score(y_valid, y_pred_knn))\n"
      ],
      "execution_count": null,
      "outputs": [
        {
          "output_type": "stream",
          "name": "stdout",
          "text": [
            "0.5432494057148402\n"
          ]
        }
      ]
    },
    {
      "cell_type": "code",
      "metadata": {
        "id": "F6VcYyvCyrav"
      },
      "source": [
        "# Numero de arboles\n",
        "n_estimators = [int(x) for x in np.linspace(start = 50, stop = 200, num = 4)]\n",
        "# Numero de features considerado al dividir\n",
        "max_features = ['auto', 'sqrt']\n",
        "# numero maximo de niveles\n",
        "#max_depth = [2,4]\n",
        "# Numero minimo de niveles por nodo\n",
        "#min_samples_split = [2, 5]\n",
        "# Numero minimo de niveles por hoja\n",
        "#min_samples_leaf = [1, 2]\n",
        "# metodo de seleccion por arbol \n",
        "bootstrap = [True, False]"
      ],
      "execution_count": null,
      "outputs": []
    },
    {
      "cell_type": "code",
      "metadata": {
        "colab": {
          "base_uri": "https://localhost:8080/"
        },
        "id": "xdNCIpS2AVjR",
        "outputId": "c31e98ff-8510-4834-9ddf-9d849d9be9f4"
      },
      "source": [
        "n_estimators"
      ],
      "execution_count": null,
      "outputs": [
        {
          "output_type": "execute_result",
          "data": {
            "text/plain": [
              "[50, 100, 150, 200]"
            ]
          },
          "metadata": {},
          "execution_count": 46
        }
      ]
    },
    {
      "cell_type": "markdown",
      "metadata": {
        "id": "veu4QdkZn49l"
      },
      "source": [
        "### GridSerchCv RandonForest"
      ]
    },
    {
      "cell_type": "code",
      "metadata": {
        "id": "Wh1crlC3yuHh"
      },
      "source": [
        "#'randomforestclassifier__n_jobs': None\n",
        "#'randomforestclassifier__n_estimators': 30,\n",
        "params = {}\n",
        "\n",
        "\n",
        "# Grilla\n",
        "param_grid = {}\n",
        "param_grid['randomforestclassifier__n_estimators'] = n_estimators\n",
        "#param_grid['randomforestclassifier__max_features'] = max_features\n",
        "#param_grid['randomforestclassifier__max_depth'] = max_depth\n",
        "#param_grid['randomforestclassifier__min_samples_split'] = min_samples_split\n",
        "#param_grid['randomforestclassifier__min_samples_leaf'] = min_samples_leaf = [1, 2]\n",
        "param_grid['randomforestclassifier__bootstrap']  = bootstrap\n",
        "          \n",
        "          \n",
        "               #'bootstrap': bootstrap"
      ],
      "execution_count": null,
      "outputs": []
    },
    {
      "cell_type": "code",
      "metadata": {
        "id": "8nDRxeJcyw7l"
      },
      "source": [
        "from sklearn.model_selection import GridSearchCV\n",
        "rfc_Grid = GridSearchCV(estimator = rfcPipe, param_grid = param_grid, cv = 3, scoring='accuracy')\n",
        "#, verbose=2, n_jobs = 4"
      ],
      "execution_count": null,
      "outputs": []
    },
    {
      "cell_type": "code",
      "metadata": {
        "id": "O2G0dUgZyzVy",
        "colab": {
          "base_uri": "https://localhost:8080/"
        },
        "outputId": "4a5d7b56-4c07-4a61-e6af-e3f565024d9f"
      },
      "source": [
        "rfc_Grid.fit(X_train_full, y_train)\n"
      ],
      "execution_count": null,
      "outputs": [
        {
          "output_type": "execute_result",
          "data": {
            "text/plain": [
              "GridSearchCV(cv=3,\n",
              "             estimator=Pipeline(steps=[('columntransformer',\n",
              "                                        ColumnTransformer(transformers=[('numerical',\n",
              "                                                                         Pipeline(steps=[('mismax_scaler',\n",
              "                                                                                          MinMaxScaler())]),\n",
              "                                                                         ['danceability',\n",
              "                                                                          'energy',\n",
              "                                                                          'loudness',\n",
              "                                                                          'speechiness',\n",
              "                                                                          'acousticness',\n",
              "                                                                          'instrumentalness',\n",
              "                                                                          'liveness',\n",
              "                                                                          'valence',\n",
              "                                                                          'tempo',\n",
              "                                                                          'duration_ms'])])),\n",
              "                                       ('randomforestclassifier',\n",
              "                                        RandomForestClassifier(n_estimators=250,\n",
              "                                                               random_state=42))]),\n",
              "             param_grid={'randomforestclassifier__bootstrap': [True, False],\n",
              "                         'randomforestclassifier__n_estimators': [50, 100, 150,\n",
              "                                                                  200]},\n",
              "             scoring='accuracy')"
            ]
          },
          "metadata": {},
          "execution_count": 50
        }
      ]
    },
    {
      "cell_type": "code",
      "metadata": {
        "id": "fLJkqT6bf1sT",
        "colab": {
          "base_uri": "https://localhost:8080/"
        },
        "outputId": "e1ac526d-c0cc-4c9f-9fd2-edf3e55d57ee"
      },
      "source": [
        "rfcPipe.get_params()"
      ],
      "execution_count": null,
      "outputs": [
        {
          "output_type": "execute_result",
          "data": {
            "text/plain": [
              "{'columntransformer': ColumnTransformer(transformers=[('numerical',\n",
              "                                  Pipeline(steps=[('mismax_scaler',\n",
              "                                                   MinMaxScaler())]),\n",
              "                                  ['danceability', 'energy', 'key', 'loudness',\n",
              "                                   'mode', 'speechiness', 'acousticness',\n",
              "                                   'instrumentalness', 'liveness', 'valence',\n",
              "                                   'tempo', 'duration_ms', 'time_signature'])]),\n",
              " 'columntransformer__n_jobs': None,\n",
              " 'columntransformer__numerical': Pipeline(steps=[('mismax_scaler', MinMaxScaler())]),\n",
              " 'columntransformer__numerical__memory': None,\n",
              " 'columntransformer__numerical__mismax_scaler': MinMaxScaler(),\n",
              " 'columntransformer__numerical__mismax_scaler__clip': False,\n",
              " 'columntransformer__numerical__mismax_scaler__copy': True,\n",
              " 'columntransformer__numerical__mismax_scaler__feature_range': (0, 1),\n",
              " 'columntransformer__numerical__steps': [('mismax_scaler', MinMaxScaler())],\n",
              " 'columntransformer__numerical__verbose': False,\n",
              " 'columntransformer__remainder': 'drop',\n",
              " 'columntransformer__sparse_threshold': 0.3,\n",
              " 'columntransformer__transformer_weights': None,\n",
              " 'columntransformer__transformers': [('numerical',\n",
              "   Pipeline(steps=[('mismax_scaler', MinMaxScaler())]),\n",
              "   ['danceability',\n",
              "    'energy',\n",
              "    'key',\n",
              "    'loudness',\n",
              "    'mode',\n",
              "    'speechiness',\n",
              "    'acousticness',\n",
              "    'instrumentalness',\n",
              "    'liveness',\n",
              "    'valence',\n",
              "    'tempo',\n",
              "    'duration_ms',\n",
              "    'time_signature'])],\n",
              " 'columntransformer__verbose': False,\n",
              " 'columntransformer__verbose_feature_names_out': True,\n",
              " 'memory': None,\n",
              " 'randomforestclassifier': RandomForestClassifier(n_estimators=250, random_state=42),\n",
              " 'randomforestclassifier__bootstrap': True,\n",
              " 'randomforestclassifier__ccp_alpha': 0.0,\n",
              " 'randomforestclassifier__class_weight': None,\n",
              " 'randomforestclassifier__criterion': 'gini',\n",
              " 'randomforestclassifier__max_depth': None,\n",
              " 'randomforestclassifier__max_features': 'auto',\n",
              " 'randomforestclassifier__max_leaf_nodes': None,\n",
              " 'randomforestclassifier__max_samples': None,\n",
              " 'randomforestclassifier__min_impurity_decrease': 0.0,\n",
              " 'randomforestclassifier__min_samples_leaf': 1,\n",
              " 'randomforestclassifier__min_samples_split': 2,\n",
              " 'randomforestclassifier__min_weight_fraction_leaf': 0.0,\n",
              " 'randomforestclassifier__n_estimators': 250,\n",
              " 'randomforestclassifier__n_jobs': None,\n",
              " 'randomforestclassifier__oob_score': False,\n",
              " 'randomforestclassifier__random_state': 42,\n",
              " 'randomforestclassifier__verbose': 0,\n",
              " 'randomforestclassifier__warm_start': False,\n",
              " 'steps': [('columntransformer', ColumnTransformer(transformers=[('numerical',\n",
              "                                    Pipeline(steps=[('mismax_scaler',\n",
              "                                                     MinMaxScaler())]),\n",
              "                                    ['danceability', 'energy', 'key', 'loudness',\n",
              "                                     'mode', 'speechiness', 'acousticness',\n",
              "                                     'instrumentalness', 'liveness', 'valence',\n",
              "                                     'tempo', 'duration_ms', 'time_signature'])])),\n",
              "  ('randomforestclassifier',\n",
              "   RandomForestClassifier(n_estimators=250, random_state=42))],\n",
              " 'verbose': False}"
            ]
          },
          "metadata": {},
          "execution_count": 48
        }
      ]
    },
    {
      "cell_type": "code",
      "metadata": {
        "id": "gw5PnOrk7MSw",
        "colab": {
          "base_uri": "https://localhost:8080/"
        },
        "outputId": "4d23b93a-68e5-4510-8750-c99bfed76ac1"
      },
      "source": [
        "rfc_Grid.best_score_"
      ],
      "execution_count": null,
      "outputs": [
        {
          "output_type": "execute_result",
          "data": {
            "text/plain": [
              "0.66555221823146"
            ]
          },
          "metadata": {},
          "execution_count": 47
        }
      ]
    },
    {
      "cell_type": "code",
      "metadata": {
        "id": "GfXqBtZRwa_p"
      },
      "source": [
        "\n",
        "from sklearn.ensemble import GradientBoostingClassifier\n",
        "clf = GradientBoostingClassifier(n_estimators=250,\n",
        "     max_depth=5, random_state=0)"
      ],
      "execution_count": null,
      "outputs": []
    },
    {
      "cell_type": "code",
      "metadata": {
        "id": "x7AiyRm7ht3w",
        "colab": {
          "base_uri": "https://localhost:8080/"
        },
        "outputId": "ca1a4d7a-2c21-4941-fa99-d76251bfebc8"
      },
      "source": [
        "XGBpipe = make_pipeline(full_pipeline, clf)\n",
        "XGBpipe.fit(X_train_full,y_train)"
      ],
      "execution_count": null,
      "outputs": [
        {
          "output_type": "execute_result",
          "data": {
            "text/plain": [
              "Pipeline(steps=[('columntransformer',\n",
              "                 ColumnTransformer(transformers=[('numerical',\n",
              "                                                  Pipeline(steps=[('mismax_scaler',\n",
              "                                                                   MinMaxScaler())]),\n",
              "                                                  ['danceability', 'energy',\n",
              "                                                   'key', 'loudness', 'mode',\n",
              "                                                   'speechiness',\n",
              "                                                   'acousticness',\n",
              "                                                   'instrumentalness',\n",
              "                                                   'liveness', 'valence',\n",
              "                                                   'tempo', 'duration_ms',\n",
              "                                                   'time_signature'])])),\n",
              "                ('gradientboostingclassifier',\n",
              "                 GradientBoostingClassifier(max_depth=5, n_estimators=250,\n",
              "                                            random_state=0))])"
            ]
          },
          "metadata": {},
          "execution_count": 51
        }
      ]
    },
    {
      "cell_type": "code",
      "metadata": {
        "id": "-Y4xXL71eFFF"
      },
      "source": [
        "y_pred_GB =  XGBpipe.predict(X_valid_full)"
      ],
      "execution_count": null,
      "outputs": []
    },
    {
      "cell_type": "code",
      "metadata": {
        "colab": {
          "base_uri": "https://localhost:8080/"
        },
        "id": "WkupiogxeSH_",
        "outputId": "6a70fc52-30c6-4284-a713-f35a82dacc46"
      },
      "source": [
        "print(accuracy_score(y_valid, y_pred_GB))"
      ],
      "execution_count": null,
      "outputs": [
        {
          "output_type": "stream",
          "name": "stdout",
          "text": [
            "0.681295304128585\n"
          ]
        }
      ]
    },
    {
      "cell_type": "code",
      "metadata": {
        "id": "46_XFkFthy7Y"
      },
      "source": [
        "XGboost_cross_val = cross_val_score(XGBpipe,X_train_full,y_train,cv=5,scoring='accuracy')"
      ],
      "execution_count": null,
      "outputs": []
    },
    {
      "cell_type": "code",
      "metadata": {
        "colab": {
          "base_uri": "https://localhost:8080/"
        },
        "id": "pRd2PToJ7UvW",
        "outputId": "95982bf0-a479-4f9a-89a6-45e9b829e196"
      },
      "source": [
        "XGboost_cross_val"
      ],
      "execution_count": null,
      "outputs": [
        {
          "output_type": "execute_result",
          "data": {
            "text/plain": [
              "array([0.56015208, 0.56531185, 0.56078573, 0.55897529, 0.55562596])"
            ]
          },
          "metadata": {},
          "execution_count": 26
        }
      ]
    },
    {
      "cell_type": "code",
      "metadata": {
        "id": "ZFRjPZj29dqD"
      },
      "source": [
        "from sklearn.metrics import roc_auc_score"
      ],
      "execution_count": null,
      "outputs": []
    }
  ]
}
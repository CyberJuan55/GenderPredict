{
  "nbformat": 4,
  "nbformat_minor": 0,
  "metadata": {
    "colab": {
      "name": "Copy of  Proyecto AA prueba RandomForest LogistalRegression ",
      "provenance": [],
      "collapsed_sections": [],
      "include_colab_link": true
    },
    "kernelspec": {
      "display_name": "Python 3",
      "name": "python3"
    },
    "language_info": {
      "name": "python"
    }
  },
  "cells": [
    {
      "cell_type": "markdown",
      "metadata": {
        "id": "view-in-github",
        "colab_type": "text"
      },
      "source": [
        "<a href=\"https://colab.research.google.com/github/CyberJuan55/GenderPredict/blob/master/Copy_of_Proyecto_AA_prueba_RandomForest_LogistalRegression.ipynb\" target=\"_parent\"><img src=\"https://colab.research.google.com/assets/colab-badge.svg\" alt=\"Open In Colab\"/></a>"
      ]
    },
    {
      "cell_type": "code",
      "metadata": {
        "id": "GeaBo8GXBlVL",
        "colab": {
          "base_uri": "https://localhost:8080/"
        },
        "outputId": "c7ff43ac-c65f-48eb-d73e-f9530bdba15b"
      },
      "source": [
        "import pandas as pd \n",
        "import seaborn as sns\n",
        "import matplotlib.pyplot as plt\n",
        "from sklearn.pipeline import Pipeline\n",
        "from sklearn.pipeline import make_pipeline\n",
        "from sklearn.preprocessing import OneHotEncoder, OrdinalEncoder, LabelEncoder, label_binarize\n",
        "from sklearn.preprocessing import StandardScaler\n",
        "from sklearn.preprocessing import MinMaxScaler\n",
        "from sklearn.compose import ColumnTransformer\n",
        "from sklearn.svm import LinearSVC\n",
        "from sklearn.multiclass import OneVsRestClassifier\n",
        "from sklearn.model_selection import GridSearchCV\n",
        "from sklearn.linear_model import LogisticRegression\n",
        "from sklearn.tree import DecisionTreeClassifier \n",
        "import numpy as np\n",
        "from sklearn.metrics import accuracy_score, confusion_matrix\n",
        "from scipy import stats\n",
        "\n",
        "urlTrain  = 'https://raw.githubusercontent.com/CyberJuan55/Proyecto-IA/master/DataSet/genres_v2.csv'\n",
        "urlFull = 'https://raw.githubusercontent.com/CyberJuan55/Proyecto-IA/master/DataSet/SpotifyFeatures.csv'\n",
        "# el train que nos dieron los profes\n",
        "#df_train_original= pd.read_csv('/content/SpotifyFeatures_train.csv')\n",
        "df_train_original = pd.read_csv(urlTrain)\n",
        "df_train = df_train_original.copy()\n",
        "# el dataset nuestro\n",
        "df_full_original = pd.read_csv(urlFull)\n",
        "df_full = df_full_original.copy()\n"
      ],
      "execution_count": null,
      "outputs": [
        {
          "output_type": "stream",
          "name": "stderr",
          "text": [
            "/usr/local/lib/python3.7/dist-packages/IPython/core/interactiveshell.py:2718: DtypeWarning: Columns (19) have mixed types.Specify dtype option on import or set low_memory=False.\n",
            "  interactivity=interactivity, compiler=compiler, result=result)\n"
          ]
        }
      ]
    },
    {
      "cell_type": "code",
      "metadata": {
        "colab": {
          "base_uri": "https://localhost:8080/",
          "height": 704
        },
        "id": "v8bWEcbLFMRC",
        "outputId": "dc07cb26-63a8-49c9-aea6-935c9fa7d85f"
      },
      "source": [
        "df_train"
      ],
      "execution_count": null,
      "outputs": [
        {
          "output_type": "execute_result",
          "data": {
            "text/html": [
              "<div>\n",
              "<style scoped>\n",
              "    .dataframe tbody tr th:only-of-type {\n",
              "        vertical-align: middle;\n",
              "    }\n",
              "\n",
              "    .dataframe tbody tr th {\n",
              "        vertical-align: top;\n",
              "    }\n",
              "\n",
              "    .dataframe thead th {\n",
              "        text-align: right;\n",
              "    }\n",
              "</style>\n",
              "<table border=\"1\" class=\"dataframe\">\n",
              "  <thead>\n",
              "    <tr style=\"text-align: right;\">\n",
              "      <th></th>\n",
              "      <th>danceability</th>\n",
              "      <th>energy</th>\n",
              "      <th>key</th>\n",
              "      <th>loudness</th>\n",
              "      <th>mode</th>\n",
              "      <th>speechiness</th>\n",
              "      <th>acousticness</th>\n",
              "      <th>instrumentalness</th>\n",
              "      <th>liveness</th>\n",
              "      <th>valence</th>\n",
              "      <th>tempo</th>\n",
              "      <th>type</th>\n",
              "      <th>id</th>\n",
              "      <th>uri</th>\n",
              "      <th>track_href</th>\n",
              "      <th>analysis_url</th>\n",
              "      <th>duration_ms</th>\n",
              "      <th>time_signature</th>\n",
              "      <th>genre</th>\n",
              "      <th>song_name</th>\n",
              "      <th>Unnamed: 0</th>\n",
              "      <th>title</th>\n",
              "    </tr>\n",
              "  </thead>\n",
              "  <tbody>\n",
              "    <tr>\n",
              "      <th>0</th>\n",
              "      <td>0.831</td>\n",
              "      <td>0.814</td>\n",
              "      <td>2</td>\n",
              "      <td>-7.364</td>\n",
              "      <td>1</td>\n",
              "      <td>0.4200</td>\n",
              "      <td>0.059800</td>\n",
              "      <td>0.013400</td>\n",
              "      <td>0.0556</td>\n",
              "      <td>0.3890</td>\n",
              "      <td>156.985</td>\n",
              "      <td>audio_features</td>\n",
              "      <td>2Vc6NJ9PW9gD9q343XFRKx</td>\n",
              "      <td>spotify:track:2Vc6NJ9PW9gD9q343XFRKx</td>\n",
              "      <td>https://api.spotify.com/v1/tracks/2Vc6NJ9PW9gD...</td>\n",
              "      <td>https://api.spotify.com/v1/audio-analysis/2Vc6...</td>\n",
              "      <td>124539</td>\n",
              "      <td>4</td>\n",
              "      <td>Dark Trap</td>\n",
              "      <td>Mercury: Retrograde</td>\n",
              "      <td>NaN</td>\n",
              "      <td>NaN</td>\n",
              "    </tr>\n",
              "    <tr>\n",
              "      <th>1</th>\n",
              "      <td>0.719</td>\n",
              "      <td>0.493</td>\n",
              "      <td>8</td>\n",
              "      <td>-7.230</td>\n",
              "      <td>1</td>\n",
              "      <td>0.0794</td>\n",
              "      <td>0.401000</td>\n",
              "      <td>0.000000</td>\n",
              "      <td>0.1180</td>\n",
              "      <td>0.1240</td>\n",
              "      <td>115.080</td>\n",
              "      <td>audio_features</td>\n",
              "      <td>7pgJBLVz5VmnL7uGHmRj6p</td>\n",
              "      <td>spotify:track:7pgJBLVz5VmnL7uGHmRj6p</td>\n",
              "      <td>https://api.spotify.com/v1/tracks/7pgJBLVz5Vmn...</td>\n",
              "      <td>https://api.spotify.com/v1/audio-analysis/7pgJ...</td>\n",
              "      <td>224427</td>\n",
              "      <td>4</td>\n",
              "      <td>Dark Trap</td>\n",
              "      <td>Pathology</td>\n",
              "      <td>NaN</td>\n",
              "      <td>NaN</td>\n",
              "    </tr>\n",
              "    <tr>\n",
              "      <th>2</th>\n",
              "      <td>0.850</td>\n",
              "      <td>0.893</td>\n",
              "      <td>5</td>\n",
              "      <td>-4.783</td>\n",
              "      <td>1</td>\n",
              "      <td>0.0623</td>\n",
              "      <td>0.013800</td>\n",
              "      <td>0.000004</td>\n",
              "      <td>0.3720</td>\n",
              "      <td>0.0391</td>\n",
              "      <td>218.050</td>\n",
              "      <td>audio_features</td>\n",
              "      <td>0vSWgAlfpye0WCGeNmuNhy</td>\n",
              "      <td>spotify:track:0vSWgAlfpye0WCGeNmuNhy</td>\n",
              "      <td>https://api.spotify.com/v1/tracks/0vSWgAlfpye0...</td>\n",
              "      <td>https://api.spotify.com/v1/audio-analysis/0vSW...</td>\n",
              "      <td>98821</td>\n",
              "      <td>4</td>\n",
              "      <td>Dark Trap</td>\n",
              "      <td>Symbiote</td>\n",
              "      <td>NaN</td>\n",
              "      <td>NaN</td>\n",
              "    </tr>\n",
              "    <tr>\n",
              "      <th>3</th>\n",
              "      <td>0.476</td>\n",
              "      <td>0.781</td>\n",
              "      <td>0</td>\n",
              "      <td>-4.710</td>\n",
              "      <td>1</td>\n",
              "      <td>0.1030</td>\n",
              "      <td>0.023700</td>\n",
              "      <td>0.000000</td>\n",
              "      <td>0.1140</td>\n",
              "      <td>0.1750</td>\n",
              "      <td>186.948</td>\n",
              "      <td>audio_features</td>\n",
              "      <td>0VSXnJqQkwuH2ei1nOQ1nu</td>\n",
              "      <td>spotify:track:0VSXnJqQkwuH2ei1nOQ1nu</td>\n",
              "      <td>https://api.spotify.com/v1/tracks/0VSXnJqQkwuH...</td>\n",
              "      <td>https://api.spotify.com/v1/audio-analysis/0VSX...</td>\n",
              "      <td>123661</td>\n",
              "      <td>3</td>\n",
              "      <td>Dark Trap</td>\n",
              "      <td>ProductOfDrugs (Prod. The Virus and Antidote)</td>\n",
              "      <td>NaN</td>\n",
              "      <td>NaN</td>\n",
              "    </tr>\n",
              "    <tr>\n",
              "      <th>4</th>\n",
              "      <td>0.798</td>\n",
              "      <td>0.624</td>\n",
              "      <td>2</td>\n",
              "      <td>-7.668</td>\n",
              "      <td>1</td>\n",
              "      <td>0.2930</td>\n",
              "      <td>0.217000</td>\n",
              "      <td>0.000000</td>\n",
              "      <td>0.1660</td>\n",
              "      <td>0.5910</td>\n",
              "      <td>147.988</td>\n",
              "      <td>audio_features</td>\n",
              "      <td>4jCeguq9rMTlbMmPHuO7S3</td>\n",
              "      <td>spotify:track:4jCeguq9rMTlbMmPHuO7S3</td>\n",
              "      <td>https://api.spotify.com/v1/tracks/4jCeguq9rMTl...</td>\n",
              "      <td>https://api.spotify.com/v1/audio-analysis/4jCe...</td>\n",
              "      <td>123298</td>\n",
              "      <td>4</td>\n",
              "      <td>Dark Trap</td>\n",
              "      <td>Venom</td>\n",
              "      <td>NaN</td>\n",
              "      <td>NaN</td>\n",
              "    </tr>\n",
              "    <tr>\n",
              "      <th>...</th>\n",
              "      <td>...</td>\n",
              "      <td>...</td>\n",
              "      <td>...</td>\n",
              "      <td>...</td>\n",
              "      <td>...</td>\n",
              "      <td>...</td>\n",
              "      <td>...</td>\n",
              "      <td>...</td>\n",
              "      <td>...</td>\n",
              "      <td>...</td>\n",
              "      <td>...</td>\n",
              "      <td>...</td>\n",
              "      <td>...</td>\n",
              "      <td>...</td>\n",
              "      <td>...</td>\n",
              "      <td>...</td>\n",
              "      <td>...</td>\n",
              "      <td>...</td>\n",
              "      <td>...</td>\n",
              "      <td>...</td>\n",
              "      <td>...</td>\n",
              "      <td>...</td>\n",
              "    </tr>\n",
              "    <tr>\n",
              "      <th>42300</th>\n",
              "      <td>0.528</td>\n",
              "      <td>0.693</td>\n",
              "      <td>4</td>\n",
              "      <td>-5.148</td>\n",
              "      <td>1</td>\n",
              "      <td>0.0304</td>\n",
              "      <td>0.031500</td>\n",
              "      <td>0.000345</td>\n",
              "      <td>0.1210</td>\n",
              "      <td>0.3940</td>\n",
              "      <td>150.013</td>\n",
              "      <td>audio_features</td>\n",
              "      <td>46bXU7Sgj7104ZoXxzz9tM</td>\n",
              "      <td>spotify:track:46bXU7Sgj7104ZoXxzz9tM</td>\n",
              "      <td>https://api.spotify.com/v1/tracks/46bXU7Sgj710...</td>\n",
              "      <td>https://api.spotify.com/v1/audio-analysis/46bX...</td>\n",
              "      <td>269208</td>\n",
              "      <td>4</td>\n",
              "      <td>hardstyle</td>\n",
              "      <td>NaN</td>\n",
              "      <td>20995.0</td>\n",
              "      <td>Euphoric Hardstyle</td>\n",
              "    </tr>\n",
              "    <tr>\n",
              "      <th>42301</th>\n",
              "      <td>0.517</td>\n",
              "      <td>0.768</td>\n",
              "      <td>0</td>\n",
              "      <td>-7.922</td>\n",
              "      <td>0</td>\n",
              "      <td>0.0479</td>\n",
              "      <td>0.022500</td>\n",
              "      <td>0.000018</td>\n",
              "      <td>0.2050</td>\n",
              "      <td>0.3830</td>\n",
              "      <td>149.928</td>\n",
              "      <td>audio_features</td>\n",
              "      <td>0he2ViGMUO3ajKTxLOfWVT</td>\n",
              "      <td>spotify:track:0he2ViGMUO3ajKTxLOfWVT</td>\n",
              "      <td>https://api.spotify.com/v1/tracks/0he2ViGMUO3a...</td>\n",
              "      <td>https://api.spotify.com/v1/audio-analysis/0he2...</td>\n",
              "      <td>210112</td>\n",
              "      <td>4</td>\n",
              "      <td>hardstyle</td>\n",
              "      <td>NaN</td>\n",
              "      <td>20996.0</td>\n",
              "      <td>Greatest Hardstyle Playlist</td>\n",
              "    </tr>\n",
              "    <tr>\n",
              "      <th>42302</th>\n",
              "      <td>0.361</td>\n",
              "      <td>0.821</td>\n",
              "      <td>8</td>\n",
              "      <td>-3.102</td>\n",
              "      <td>1</td>\n",
              "      <td>0.0505</td>\n",
              "      <td>0.026000</td>\n",
              "      <td>0.000242</td>\n",
              "      <td>0.3850</td>\n",
              "      <td>0.1240</td>\n",
              "      <td>154.935</td>\n",
              "      <td>audio_features</td>\n",
              "      <td>72DAt9Lbpy9EUS29OzQLob</td>\n",
              "      <td>spotify:track:72DAt9Lbpy9EUS29OzQLob</td>\n",
              "      <td>https://api.spotify.com/v1/tracks/72DAt9Lbpy9E...</td>\n",
              "      <td>https://api.spotify.com/v1/audio-analysis/72DA...</td>\n",
              "      <td>234823</td>\n",
              "      <td>4</td>\n",
              "      <td>hardstyle</td>\n",
              "      <td>NaN</td>\n",
              "      <td>20997.0</td>\n",
              "      <td>Best of Hardstyle 2020</td>\n",
              "    </tr>\n",
              "    <tr>\n",
              "      <th>42303</th>\n",
              "      <td>0.477</td>\n",
              "      <td>0.921</td>\n",
              "      <td>6</td>\n",
              "      <td>-4.777</td>\n",
              "      <td>0</td>\n",
              "      <td>0.0392</td>\n",
              "      <td>0.000551</td>\n",
              "      <td>0.029600</td>\n",
              "      <td>0.0575</td>\n",
              "      <td>0.4880</td>\n",
              "      <td>150.042</td>\n",
              "      <td>audio_features</td>\n",
              "      <td>6HXgExFVuE1c3cq9QjFCcU</td>\n",
              "      <td>spotify:track:6HXgExFVuE1c3cq9QjFCcU</td>\n",
              "      <td>https://api.spotify.com/v1/tracks/6HXgExFVuE1c...</td>\n",
              "      <td>https://api.spotify.com/v1/audio-analysis/6HXg...</td>\n",
              "      <td>323200</td>\n",
              "      <td>4</td>\n",
              "      <td>hardstyle</td>\n",
              "      <td>NaN</td>\n",
              "      <td>20998.0</td>\n",
              "      <td>Euphoric Hardstyle</td>\n",
              "    </tr>\n",
              "    <tr>\n",
              "      <th>42304</th>\n",
              "      <td>0.529</td>\n",
              "      <td>0.945</td>\n",
              "      <td>9</td>\n",
              "      <td>-5.862</td>\n",
              "      <td>1</td>\n",
              "      <td>0.0615</td>\n",
              "      <td>0.001890</td>\n",
              "      <td>0.000055</td>\n",
              "      <td>0.4140</td>\n",
              "      <td>0.1340</td>\n",
              "      <td>155.047</td>\n",
              "      <td>audio_features</td>\n",
              "      <td>6MAAMZImxcvYhRnxDLTufD</td>\n",
              "      <td>spotify:track:6MAAMZImxcvYhRnxDLTufD</td>\n",
              "      <td>https://api.spotify.com/v1/tracks/6MAAMZImxcvY...</td>\n",
              "      <td>https://api.spotify.com/v1/audio-analysis/6MAA...</td>\n",
              "      <td>162161</td>\n",
              "      <td>4</td>\n",
              "      <td>hardstyle</td>\n",
              "      <td>NaN</td>\n",
              "      <td>20999.0</td>\n",
              "      <td>Best of Hardstyle 2020</td>\n",
              "    </tr>\n",
              "  </tbody>\n",
              "</table>\n",
              "<p>42305 rows × 22 columns</p>\n",
              "</div>"
            ],
            "text/plain": [
              "       danceability  energy  ...  Unnamed: 0                        title\n",
              "0             0.831   0.814  ...         NaN                          NaN\n",
              "1             0.719   0.493  ...         NaN                          NaN\n",
              "2             0.850   0.893  ...         NaN                          NaN\n",
              "3             0.476   0.781  ...         NaN                          NaN\n",
              "4             0.798   0.624  ...         NaN                          NaN\n",
              "...             ...     ...  ...         ...                          ...\n",
              "42300         0.528   0.693  ...     20995.0           Euphoric Hardstyle\n",
              "42301         0.517   0.768  ...     20996.0  Greatest Hardstyle Playlist\n",
              "42302         0.361   0.821  ...     20997.0       Best of Hardstyle 2020\n",
              "42303         0.477   0.921  ...     20998.0           Euphoric Hardstyle\n",
              "42304         0.529   0.945  ...     20999.0       Best of Hardstyle 2020\n",
              "\n",
              "[42305 rows x 22 columns]"
            ]
          },
          "metadata": {},
          "execution_count": 16
        }
      ]
    },
    {
      "cell_type": "code",
      "metadata": {
        "colab": {
          "base_uri": "https://localhost:8080/"
        },
        "id": "_0tfvAlLFrqq",
        "outputId": "7f8290db-0fe9-4488-9ae7-7d766078e85a"
      },
      "source": [
        "df_train.time_signature.unique()"
      ],
      "execution_count": null,
      "outputs": [
        {
          "output_type": "execute_result",
          "data": {
            "text/plain": [
              "array([4, 3, 5, 1])"
            ]
          },
          "metadata": {},
          "execution_count": 3
        }
      ]
    },
    {
      "cell_type": "markdown",
      "metadata": {
        "id": "PoEJIv4hqDe1"
      },
      "source": [
        "### Preprocesado de datos y visualizacion "
      ]
    },
    {
      "cell_type": "code",
      "metadata": {
        "id": "7o6tPneUaeji"
      },
      "source": [
        "# Funcion para el preprocesamiento de datos\n",
        "def preprocesado(df,out=False):\n",
        "\n",
        "   \n",
        "    if df.duplicated().sum() == 0:\n",
        "        print('no hay datos duplicados')\n",
        "    else:\n",
        "        df.drop_duplicates\n",
        "    if 'Unnamed: 0' in df.columns:\n",
        "        df = df.drop(['Unnamed: 0'], axis=1)\n",
        "\n",
        "    #df_train = df.drop(['Unnamed: 0'], axis=1)\n",
        "    df = df.drop(['uri','id','type','track_href','analysis_url','song_name','title','time_signature'], axis=1)\n",
        "    df['genre']= df['genre'].replace([\"Children’s Music\"],\"Children's Music\")\n",
        "    indexNamesChildren = df[ df['genre'] == \"Children's Music\" ].index\n",
        "    df.drop(indexNamesChildren , inplace=True)\n",
        "\n",
        " \n",
        "\n",
        "    #indexPOP = df[df.popularity==0].index\n",
        "    #df.drop(indexPOP , inplace=True)\n",
        "\n",
        "    #indexACO = df[df.acousticness < 0.02] .index\n",
        "    #df.drop(indexACO , inplace=True)\n",
        "    #indexACO1 = df[df.acousticness > 0.98] .index\n",
        "    #df.drop(indexACO1 , inplace=True)\n",
        "\n",
        "    #indexVAL = df[df.valence < 0.08] .index\n",
        "    #df.drop(indexVAL , inplace=True)\n",
        "    #indexVAL1 = df[df.valence > 0.9] .index\n",
        "    #df.drop(indexVAL1 , inplace=True)\n",
        "\n",
        "\n",
        "    cols_with_missing = [col for col in df.columns if df[col].isnull().any()] \n",
        "    faltanDatos = True\n",
        "    if len(cols_with_missing)==0:\n",
        "        faltanDatos= False\n",
        "        print('no faltan valores') \n",
        "    if faltanDatos == True:\n",
        "        print(cols_with_missing)\n",
        "        df.dropna(axis=0, inplace=True)\n",
        "\n",
        "    y = df['genre']\n",
        "\n",
        "    if out == True:\n",
        "        labelencoder = LabelEncoder()\n",
        "        df[\"genre\"] = labelencoder.fit_transform(df[\"genre\"])\n",
        "\n",
        "        df_train_genres = df\n",
        "        generos=list(df_train['genre'].unique())\n",
        "\n",
        "        b = []\n",
        "        for i in generos:\n",
        "            df=df_train_genres[df_train_genres[\"genre\"]==i].drop(columns=[\"genre\",\"mode\",\"key\"])\n",
        "     \n",
        "            z = np.abs(stats.zscore(df))\n",
        "            #print(np.where(z > 3))\n",
        "            a=np.where(z > 3)\n",
        "            outliers=list(set(list(a[0])))\n",
        "            ñ = [df.iloc[x,:].name for x in outliers]\n",
        "            b = ñ + b\n",
        "        df_train_genres.drop(b, axis = 0, inplace = True)\n",
        "\n",
        "        df = df_train_genres\n",
        "\n",
        "\n",
        "    \n",
        "    X = df.drop(columns=['genre'])\n",
        "   \n",
        "    \n",
        "\n",
        "    return X,y \n"
      ],
      "execution_count": null,
      "outputs": []
    },
    {
      "cell_type": "code",
      "metadata": {
        "id": "Bz1kZMM683DZ",
        "colab": {
          "base_uri": "https://localhost:8080/"
        },
        "outputId": "b133c0d1-f10c-47d7-901a-10801bbb513f"
      },
      "source": [
        "df_train,y = preprocesado(df_train,out=True)"
      ],
      "execution_count": null,
      "outputs": [
        {
          "output_type": "stream",
          "name": "stdout",
          "text": [
            "no hay datos duplicados\n",
            "no faltan valores\n"
          ]
        },
        {
          "output_type": "stream",
          "name": "stderr",
          "text": [
            "/usr/local/lib/python3.7/dist-packages/scipy/stats/stats.py:2416: RuntimeWarning: Mean of empty slice.\n",
            "  mns = a.mean(axis=axis, keepdims=True)\n",
            "/usr/local/lib/python3.7/dist-packages/numpy/core/_methods.py:163: RuntimeWarning: invalid value encountered in true_divide\n",
            "  ret, rcount, out=ret, casting='unsafe', subok=False)\n",
            "/usr/local/lib/python3.7/dist-packages/numpy/core/_methods.py:234: RuntimeWarning: Degrees of freedom <= 0 for slice\n",
            "  keepdims=keepdims)\n",
            "/usr/local/lib/python3.7/dist-packages/numpy/core/_methods.py:195: RuntimeWarning: invalid value encountered in true_divide\n",
            "  arrmean, rcount, out=arrmean, casting='unsafe', subok=False)\n",
            "/usr/local/lib/python3.7/dist-packages/numpy/core/_methods.py:224: RuntimeWarning: invalid value encountered in true_divide\n",
            "  ret, rcount, out=ret, casting='unsafe', subok=False)\n"
          ]
        }
      ]
    },
    {
      "cell_type": "code",
      "metadata": {
        "colab": {
          "base_uri": "https://localhost:8080/",
          "height": 881
        },
        "id": "cM9fTvefyotR",
        "outputId": "0deddd8f-b971-47e8-e95a-18e4d1e68c2b"
      },
      "source": [
        "y.hist(bins=100, figsize=(25,15))"
      ],
      "execution_count": null,
      "outputs": [
        {
          "output_type": "execute_result",
          "data": {
            "text/plain": [
              "<matplotlib.axes._subplots.AxesSubplot at 0x7f8f60f826d0>"
            ]
          },
          "metadata": {},
          "execution_count": 23
        },
        {
          "output_type": "display_data",
          "data": {
            "image/png": "[encoded data removed]",
            "text/plain": [
              "<Figure size 1800x1080 with 1 Axes>"
            ]
          },
          "metadata": {
            "needs_background": "light"
          }
        }
      ]
    },
    {
      "cell_type": "code",
      "metadata": {
        "id": "AAJqpQSt3vT8",
        "colab": {
          "base_uri": "https://localhost:8080/",
          "height": 1000
        },
        "outputId": "38903002-c06e-47a2-e159-d9ed1671f844"
      },
      "source": [
        "df_train.hist(bins=500, figsize=(25,15))"
      ],
      "execution_count": null,
      "outputs": [
        {
          "output_type": "execute_result",
          "data": {
            "text/plain": [
              "array([[<matplotlib.axes._subplots.AxesSubplot object at 0x7ff897948350>,\n",
              "        <matplotlib.axes._subplots.AxesSubplot object at 0x7ff897ab2c10>,\n",
              "        <matplotlib.axes._subplots.AxesSubplot object at 0x7ff8978cfa90>],\n",
              "       [<matplotlib.axes._subplots.AxesSubplot object at 0x7ff8978910d0>,\n",
              "        <matplotlib.axes._subplots.AxesSubplot object at 0x7ff8978c76d0>,\n",
              "        <matplotlib.axes._subplots.AxesSubplot object at 0x7ff89787ecd0>],\n",
              "       [<matplotlib.axes._subplots.AxesSubplot object at 0x7ff897841390>,\n",
              "        <matplotlib.axes._subplots.AxesSubplot object at 0x7ff8977f68d0>,\n",
              "        <matplotlib.axes._subplots.AxesSubplot object at 0x7ff8977f6910>],\n",
              "       [<matplotlib.axes._subplots.AxesSubplot object at 0x7ff8977b7050>,\n",
              "        <matplotlib.axes._subplots.AxesSubplot object at 0x7ff897723b50>,\n",
              "        <matplotlib.axes._subplots.AxesSubplot object at 0x7ff8976e4190>]],\n",
              "      dtype=object)"
            ]
          },
          "metadata": {},
          "execution_count": 7
        },
        {
          "output_type": "display_data",
          "data": {
            "image/png": "[encoded data removed]",
            "text/plain": [
              "<Figure size 1800x1080 with 12 Axes>"
            ]
          },
          "metadata": {
            "needs_background": "light"
          }
        }
      ]
    },
    {
      "cell_type": "code",
      "metadata": {
        "id": "Bir7xFjZx9tQ"
      },
      "source": [
        "#Borrar variables categoricas\n",
        "df_train = df_train.drop(['mode',\"key\"], axis=1) "
      ],
      "execution_count": null,
      "outputs": []
    },
    {
      "cell_type": "code",
      "metadata": {
        "id": "EHMElHKWg04A"
      },
      "source": [
        "from sklearn.model_selection import train_test_split, GridSearchCV, cross_val_score, cross_val_predict\n",
        "X_train_full, X_valid_full, y_train, y_valid = train_test_split(df_train, y, \n",
        "                                                                train_size=0.7, test_size=0.3,\n",
        "                                                                random_state=42)"
      ],
      "execution_count": null,
      "outputs": []
    },
    {
      "cell_type": "code",
      "metadata": {
        "id": "qy0PcAAXR3A_"
      },
      "source": [
        "df_train_num = df_train.drop(['mode',\"key\"], axis=1) "
      ],
      "execution_count": null,
      "outputs": []
    },
    {
      "cell_type": "code",
      "metadata": {
        "id": "lwlGFXS4fIho"
      },
      "source": [
        "from sklearn.pipeline import Pipeline\n",
        "from sklearn.preprocessing import OneHotEncoder, OrdinalEncoder\n",
        "from sklearn.preprocessing import StandardScaler\n",
        "from sklearn.compose import ColumnTransformer\n",
        "\n",
        "num_pipeline = Pipeline([\n",
        "        ('mismax_scaler', MinMaxScaler()),\n",
        "        #('standar_scaler', StandardScaler()),\n",
        "    ])\n",
        "#cat_attribs1 = [\"key\"]\n",
        "#cat_attribs2 = [\"mode\"]\n",
        "#cat_attribs3 = [\"time_signature\"]\n",
        "num_attribs = list(df_train)\n",
        "\n",
        "full_pipeline = ColumnTransformer([\n",
        "        ('numerical', num_pipeline, num_attribs),                          \n",
        "        #(\"cat\", OrdinalEncoder(), cat_attribs1),\n",
        "       # (\"cat1\", OrdinalEncoder(), cat_attribs2),\n",
        "        #(\"cat3\", OneHotEncoder(), cat_attribs3),\n",
        "    ])"
      ],
      "execution_count": null,
      "outputs": []
    },
    {
      "cell_type": "code",
      "metadata": {
        "id": "fMcA7Eswgwlz"
      },
      "source": [
        "df_train_processed = full_pipeline.fit_transform(df_train)"
      ],
      "execution_count": null,
      "outputs": []
    },
    {
      "cell_type": "markdown",
      "metadata": {
        "id": "1mIADrXyREWn"
      },
      "source": [
        "##PCA"
      ]
    },
    {
      "cell_type": "code",
      "metadata": {
        "id": "CWUEHtmP3dqs"
      },
      "source": [
        "a = pd.DataFrame(df_train_processed)"
      ],
      "execution_count": null,
      "outputs": []
    },
    {
      "cell_type": "code",
      "metadata": {
        "colab": {
          "base_uri": "https://localhost:8080/",
          "height": 424
        },
        "id": "Ue5nLyEl2Dg2",
        "outputId": "ea74d79a-718b-4693-ab82-c201a49fc347"
      },
      "source": [
        "a"
      ],
      "execution_count": null,
      "outputs": [
        {
          "output_type": "execute_result",
          "data": {
            "text/html": [
              "<div>\n",
              "<style scoped>\n",
              "    .dataframe tbody tr th:only-of-type {\n",
              "        vertical-align: middle;\n",
              "    }\n",
              "\n",
              "    .dataframe tbody tr th {\n",
              "        vertical-align: top;\n",
              "    }\n",
              "\n",
              "    .dataframe thead th {\n",
              "        text-align: right;\n",
              "    }\n",
              "</style>\n",
              "<table border=\"1\" class=\"dataframe\">\n",
              "  <thead>\n",
              "    <tr style=\"text-align: right;\">\n",
              "      <th></th>\n",
              "      <th>0</th>\n",
              "      <th>1</th>\n",
              "      <th>2</th>\n",
              "      <th>3</th>\n",
              "      <th>4</th>\n",
              "      <th>5</th>\n",
              "      <th>6</th>\n",
              "      <th>7</th>\n",
              "      <th>8</th>\n",
              "      <th>9</th>\n",
              "    </tr>\n",
              "  </thead>\n",
              "  <tbody>\n",
              "    <tr>\n",
              "      <th>0</th>\n",
              "      <td>0.829884</td>\n",
              "      <td>0.813955</td>\n",
              "      <td>0.712039</td>\n",
              "      <td>0.430304</td>\n",
              "      <td>0.060525</td>\n",
              "      <td>0.013549</td>\n",
              "      <td>0.045943</td>\n",
              "      <td>0.382028</td>\n",
              "      <td>0.610006</td>\n",
              "      <td>0.111487</td>\n",
              "    </tr>\n",
              "    <tr>\n",
              "      <th>1</th>\n",
              "      <td>0.708527</td>\n",
              "      <td>0.492877</td>\n",
              "      <td>0.715710</td>\n",
              "      <td>0.061410</td>\n",
              "      <td>0.405870</td>\n",
              "      <td>0.000000</td>\n",
              "      <td>0.109792</td>\n",
              "      <td>0.108635</td>\n",
              "      <td>0.351848</td>\n",
              "      <td>0.224043</td>\n",
              "    </tr>\n",
              "    <tr>\n",
              "      <th>2</th>\n",
              "      <td>0.850471</td>\n",
              "      <td>0.892974</td>\n",
              "      <td>0.782742</td>\n",
              "      <td>0.042890</td>\n",
              "      <td>0.013967</td>\n",
              "      <td>0.000004</td>\n",
              "      <td>0.369692</td>\n",
              "      <td>0.021046</td>\n",
              "      <td>0.986200</td>\n",
              "      <td>0.082507</td>\n",
              "    </tr>\n",
              "    <tr>\n",
              "      <th>3</th>\n",
              "      <td>0.445227</td>\n",
              "      <td>0.780947</td>\n",
              "      <td>0.784742</td>\n",
              "      <td>0.086971</td>\n",
              "      <td>0.023987</td>\n",
              "      <td>0.000000</td>\n",
              "      <td>0.105699</td>\n",
              "      <td>0.161250</td>\n",
              "      <td>0.794595</td>\n",
              "      <td>0.110497</td>\n",
              "    </tr>\n",
              "    <tr>\n",
              "      <th>4</th>\n",
              "      <td>0.794127</td>\n",
              "      <td>0.623909</td>\n",
              "      <td>0.703712</td>\n",
              "      <td>0.292754</td>\n",
              "      <td>0.219635</td>\n",
              "      <td>0.000000</td>\n",
              "      <td>0.158907</td>\n",
              "      <td>0.590426</td>\n",
              "      <td>0.554579</td>\n",
              "      <td>0.110088</td>\n",
              "    </tr>\n",
              "    <tr>\n",
              "      <th>...</th>\n",
              "      <td>...</td>\n",
              "      <td>...</td>\n",
              "      <td>...</td>\n",
              "      <td>...</td>\n",
              "      <td>...</td>\n",
              "      <td>...</td>\n",
              "      <td>...</td>\n",
              "      <td>...</td>\n",
              "      <td>...</td>\n",
              "      <td>...</td>\n",
              "    </tr>\n",
              "    <tr>\n",
              "      <th>42300</th>\n",
              "      <td>0.501571</td>\n",
              "      <td>0.692925</td>\n",
              "      <td>0.772743</td>\n",
              "      <td>0.008340</td>\n",
              "      <td>0.031882</td>\n",
              "      <td>0.000349</td>\n",
              "      <td>0.112862</td>\n",
              "      <td>0.387187</td>\n",
              "      <td>0.567055</td>\n",
              "      <td>0.274503</td>\n",
              "    </tr>\n",
              "    <tr>\n",
              "      <th>42301</th>\n",
              "      <td>0.489652</td>\n",
              "      <td>0.767944</td>\n",
              "      <td>0.696754</td>\n",
              "      <td>0.027293</td>\n",
              "      <td>0.022772</td>\n",
              "      <td>0.000018</td>\n",
              "      <td>0.198813</td>\n",
              "      <td>0.375838</td>\n",
              "      <td>0.566531</td>\n",
              "      <td>0.207912</td>\n",
              "    </tr>\n",
              "    <tr>\n",
              "      <th>42302</th>\n",
              "      <td>0.320620</td>\n",
              "      <td>0.820956</td>\n",
              "      <td>0.828791</td>\n",
              "      <td>0.030109</td>\n",
              "      <td>0.026315</td>\n",
              "      <td>0.000245</td>\n",
              "      <td>0.382994</td>\n",
              "      <td>0.108635</td>\n",
              "      <td>0.597377</td>\n",
              "      <td>0.235757</td>\n",
              "    </tr>\n",
              "    <tr>\n",
              "      <th>42303</th>\n",
              "      <td>0.446311</td>\n",
              "      <td>0.920981</td>\n",
              "      <td>0.782906</td>\n",
              "      <td>0.017871</td>\n",
              "      <td>0.000557</td>\n",
              "      <td>0.029929</td>\n",
              "      <td>0.047887</td>\n",
              "      <td>0.484164</td>\n",
              "      <td>0.567233</td>\n",
              "      <td>0.335342</td>\n",
              "    </tr>\n",
              "    <tr>\n",
              "      <th>42304</th>\n",
              "      <td>0.502655</td>\n",
              "      <td>0.944987</td>\n",
              "      <td>0.753184</td>\n",
              "      <td>0.042023</td>\n",
              "      <td>0.001912</td>\n",
              "      <td>0.000055</td>\n",
              "      <td>0.412668</td>\n",
              "      <td>0.118952</td>\n",
              "      <td>0.598067</td>\n",
              "      <td>0.153880</td>\n",
              "    </tr>\n",
              "  </tbody>\n",
              "</table>\n",
              "<p>42305 rows × 10 columns</p>\n",
              "</div>"
            ],
            "text/plain": [
              "              0         1         2  ...         7         8         9\n",
              "0      0.829884  0.813955  0.712039  ...  0.382028  0.610006  0.111487\n",
              "1      0.708527  0.492877  0.715710  ...  0.108635  0.351848  0.224043\n",
              "2      0.850471  0.892974  0.782742  ...  0.021046  0.986200  0.082507\n",
              "3      0.445227  0.780947  0.784742  ...  0.161250  0.794595  0.110497\n",
              "4      0.794127  0.623909  0.703712  ...  0.590426  0.554579  0.110088\n",
              "...         ...       ...       ...  ...       ...       ...       ...\n",
              "42300  0.501571  0.692925  0.772743  ...  0.387187  0.567055  0.274503\n",
              "42301  0.489652  0.767944  0.696754  ...  0.375838  0.566531  0.207912\n",
              "42302  0.320620  0.820956  0.828791  ...  0.108635  0.597377  0.235757\n",
              "42303  0.446311  0.920981  0.782906  ...  0.484164  0.567233  0.335342\n",
              "42304  0.502655  0.944987  0.753184  ...  0.118952  0.598067  0.153880\n",
              "\n",
              "[42305 rows x 10 columns]"
            ]
          },
          "metadata": {},
          "execution_count": 14
        }
      ]
    },
    {
      "cell_type": "code",
      "metadata": {
        "id": "MG-tbAvK_Z9_",
        "colab": {
          "base_uri": "https://localhost:8080/",
          "height": 1000
        },
        "outputId": "776b7670-1cc6-4ba4-b88c-f09b5f9fdc88"
      },
      "source": [
        "a.hist(bins=500, figsize=(25,15))"
      ],
      "execution_count": null,
      "outputs": [
        {
          "output_type": "execute_result",
          "data": {
            "text/plain": [
              "array([[<matplotlib.axes._subplots.AxesSubplot object at 0x7ff8936ef190>,\n",
              "        <matplotlib.axes._subplots.AxesSubplot object at 0x7ff8935e0950>,\n",
              "        <matplotlib.axes._subplots.AxesSubplot object at 0x7ff8934f8f10>],\n",
              "       [<matplotlib.axes._subplots.AxesSubplot object at 0x7ff893111dd0>,\n",
              "        <matplotlib.axes._subplots.AxesSubplot object at 0x7ff8931e1ed0>,\n",
              "        <matplotlib.axes._subplots.AxesSubplot object at 0x7ff893228410>],\n",
              "       [<matplotlib.axes._subplots.AxesSubplot object at 0x7ff893214990>,\n",
              "        <matplotlib.axes._subplots.AxesSubplot object at 0x7ff8930efdd0>,\n",
              "        <matplotlib.axes._subplots.AxesSubplot object at 0x7ff8930efe10>],\n",
              "       [<matplotlib.axes._subplots.AxesSubplot object at 0x7ff89312e450>,\n",
              "        <matplotlib.axes._subplots.AxesSubplot object at 0x7ff893159d50>,\n",
              "        <matplotlib.axes._subplots.AxesSubplot object at 0x7ff892771290>]],\n",
              "      dtype=object)"
            ]
          },
          "metadata": {},
          "execution_count": 15
        },
        {
          "output_type": "display_data",
          "data": {
            "image/png": "[encoded data removed]",
            "text/plain": [
              "<Figure size 1800x1080 with 12 Axes>"
            ]
          },
          "metadata": {
            "needs_background": "light"
          }
        }
      ]
    },
    {
      "cell_type": "code",
      "metadata": {
        "id": "6CtFEC3q25cd"
      },
      "source": [
        ""
      ],
      "execution_count": null,
      "outputs": []
    },
    {
      "cell_type": "code",
      "metadata": {
        "id": "L7yb3nrs3wDE",
        "colab": {
          "base_uri": "https://localhost:8080/",
          "height": 947
        },
        "outputId": "22835565-1e25-47da-ca49-c9d53c49c545"
      },
      "source": [
        "f = plt.figure(figsize=[19,15])\n",
        "plt.matshow(a.corr(),fignum=f.number)\n",
        "plt.xticks(range(a.shape[1]),df_train.columns,rotation=45)\n",
        "plt.yticks(range(a.shape[1]),df_train.columns)\n",
        "cb = plt.colorbar()\n",
        "cb.ax.tick_params(labelsize=14)"
      ],
      "execution_count": null,
      "outputs": [
        {
          "output_type": "display_data",
          "data": {
            "image/png": "[encoded data removed]",
            "text/plain": [
              "<Figure size 1368x1080 with 2 Axes>"
            ]
          },
          "metadata": {
            "needs_background": "light"
          }
        }
      ]
    },
    {
      "cell_type": "code",
      "metadata": {
        "id": "g64ScNLWAwdW"
      },
      "source": [
        "from sklearn.decomposition import PCA\n",
        "dim=[]\n",
        "var=[]\n",
        "for comp in range(3, df_train_processed.shape[1]):\n",
        "    dim.append(comp)\n",
        "    pca = PCA(n_components= comp, random_state=42)\n",
        "    pca.fit(df_train_processed)\n",
        "    comp_check = pca.explained_variance_ratio_\n",
        "    var.append(sum(comp_check))\n",
        "    final_comp = comp\n",
        "    if comp_check.sum() > 0.99:\n",
        "        break"
      ],
      "execution_count": null,
      "outputs": []
    },
    {
      "cell_type": "code",
      "metadata": {
        "id": "RwP9OU7hNOxw"
      },
      "source": [
        "from sklearn.decomposition import PCA\n",
        "pca = PCA()\n",
        "#n_components= 9, random_state=42"
      ],
      "execution_count": null,
      "outputs": []
    },
    {
      "cell_type": "code",
      "metadata": {
        "id": "jrw7pYBboVaL",
        "colab": {
          "base_uri": "https://localhost:8080/"
        },
        "outputId": "27abf1d0-6f8f-4628-bba3-d659115ed754"
      },
      "source": [
        "pca.fit(a)\n"
      ],
      "execution_count": null,
      "outputs": [
        {
          "output_type": "execute_result",
          "data": {
            "text/plain": [
              "PCA()"
            ]
          },
          "metadata": {},
          "execution_count": 19
        }
      ]
    },
    {
      "cell_type": "code",
      "metadata": {
        "id": "q4Ilp_dVon_e"
      },
      "source": [
        "x_pca = pca.transform(a)"
      ],
      "execution_count": null,
      "outputs": []
    },
    {
      "cell_type": "code",
      "metadata": {
        "id": "WJHCzzIipwrM",
        "colab": {
          "base_uri": "https://localhost:8080/"
        },
        "outputId": "db7a0164-c167-4ec1-d128-af4cc9185952"
      },
      "source": [
        "print(x_pca.shape)\n",
        "print(x_pca)"
      ],
      "execution_count": null,
      "outputs": [
        {
          "output_type": "stream",
          "name": "stdout",
          "text": [
            "(42305, 10)\n",
            "[[-0.33380312  0.07822701  0.01129328 ...  0.00890298 -0.06930656\n",
            "   0.08029903]\n",
            " [-0.28551139 -0.15628886  0.44100296 ... -0.09345936  0.00905497\n",
            "  -0.05125462]\n",
            " [-0.21579366 -0.3372649  -0.09037784 ... -0.36830464 -0.19230304\n",
            "   0.07970531]\n",
            " ...\n",
            " [-0.15000819 -0.46825103 -0.16312943 ...  0.02365097  0.01886144\n",
            "  -0.04602439]\n",
            " [-0.17858429 -0.03957168 -0.20115344 ...  0.00698641  0.11311407\n",
            "   0.01727898]\n",
            " [-0.1547352  -0.39204401 -0.21304885 ... -0.08237663 -0.07794336\n",
            "   0.08153472]]\n"
          ]
        }
      ]
    },
    {
      "cell_type": "code",
      "metadata": {
        "id": "JsN3krUqrDjr",
        "colab": {
          "base_uri": "https://localhost:8080/",
          "height": 298
        },
        "outputId": "36c301a0-5643-445e-ba4f-19dd28aef6bb"
      },
      "source": [
        "# con .explained_variance_ratio_ vemos la fracción de información que aporta cada componente\n",
        "evr = pca.explained_variance_ratio_\n",
        "\n",
        "# Graficamos la fracción de varianza que aporta cada componente\n",
        "# y la información acumulada\n",
        "fig, ax = plt.subplots(1, 2, figsize = (12, 4))\n",
        "\n",
        "ax[0].plot(range(1, len(evr) + 1), evr, '.-', markersize = 20)\n",
        "ax[0].set_ylabel('Fracción de varianza explicada')\n",
        "ax[0].set_xlabel('Número de componente principal')\n",
        "\n",
        "# Calculamos el acumulado con la función cumsum de numpy \n",
        "varianza_acumulada = np.cumsum(evr)\n",
        "\n",
        "ax[1].plot(range(1, len(evr) + 1), varianza_acumulada, '.-', markersize = 20)\n",
        "ax[1].set_ylabel('Fracción acumulada de varianza explicada')\n",
        "ax[1].set_xlabel('Cantidad de componentes principales')"
      ],
      "execution_count": null,
      "outputs": [
        {
          "output_type": "execute_result",
          "data": {
            "text/plain": [
              "Text(0.5, 0, 'Cantidad de componentes principales')"
            ]
          },
          "metadata": {},
          "execution_count": 22
        },
        {
          "output_type": "display_data",
          "data": {
            "image/png": "[encoded data removed]",
            "text/plain": [
              "<Figure size 864x288 with 2 Axes>"
            ]
          },
          "metadata": {
            "needs_background": "light"
          }
        }
      ]
    },
    {
      "cell_type": "code",
      "metadata": {
        "id": "NpIC1eFW55Bh"
      },
      "source": [
        "pca = PCA(n_components= 10, random_state=42)\n"
      ],
      "execution_count": null,
      "outputs": []
    },
    {
      "cell_type": "markdown",
      "metadata": {
        "id": "hIFdhSYjQ9ps"
      },
      "source": [
        "##Modelos"
      ]
    },
    {
      "cell_type": "code",
      "metadata": {
        "id": "7rCDk9Uftbwm"
      },
      "source": [
        "lg=LogisticRegression(max_iter=2000, random_state=1, penalty = 'l2', C = 0.01) #onevsrestclassifier"
      ],
      "execution_count": null,
      "outputs": []
    },
    {
      "cell_type": "code",
      "metadata": {
        "id": "ovxPLYLNlf4S",
        "colab": {
          "base_uri": "https://localhost:8080/"
        },
        "outputId": "46d217f0-c189-4a4a-db3f-1206ac6953ce"
      },
      "source": [
        "from sklearn.pipeline import make_pipeline\n",
        "LGpipe = make_pipeline(full_pipeline,lg)\n",
        "LGpipe.fit(X_train_full,y_train)\n"
      ],
      "execution_count": null,
      "outputs": [
        {
          "output_type": "execute_result",
          "data": {
            "text/plain": [
              "Pipeline(steps=[('columntransformer',\n",
              "                 ColumnTransformer(transformers=[('numerical',\n",
              "                                                  Pipeline(steps=[('mismax_scaler',\n",
              "                                                                   MinMaxScaler())]),\n",
              "                                                  ['danceability', 'energy',\n",
              "                                                   'key', 'loudness', 'mode',\n",
              "                                                   'speechiness',\n",
              "                                                   'acousticness',\n",
              "                                                   'instrumentalness',\n",
              "                                                   'liveness', 'valence',\n",
              "                                                   'tempo', 'duration_ms',\n",
              "                                                   'time_signature'])])),\n",
              "                ('logisticregression',\n",
              "                 LogisticRegression(C=0.01, max_iter=2000, random_state=1))])"
            ]
          },
          "metadata": {},
          "execution_count": 35
        }
      ]
    },
    {
      "cell_type": "code",
      "metadata": {
        "id": "B7lk5adnShmM"
      },
      "source": [
        "y_predLG = LGpipe.predict(X_valid_full)"
      ],
      "execution_count": null,
      "outputs": []
    },
    {
      "cell_type": "code",
      "metadata": {
        "id": "adupmKNaSxpy",
        "colab": {
          "base_uri": "https://localhost:8080/"
        },
        "outputId": "5043007b-c2ac-4d91-c80a-1d77cdaef845"
      },
      "source": [
        "print(accuracy_score(y_valid, y_predLG))"
      ],
      "execution_count": null,
      "outputs": [
        {
          "output_type": "stream",
          "name": "stdout",
          "text": [
            "0.43791364639142766\n"
          ]
        }
      ]
    },
    {
      "cell_type": "code",
      "metadata": {
        "id": "oIR2lbPpn8ao"
      },
      "source": [
        "lg_cross_val = cross_val_score(LGpipe,X_train_full,y_train,cv=5,scoring='accuracy').mean()"
      ],
      "execution_count": null,
      "outputs": []
    },
    {
      "cell_type": "code",
      "metadata": {
        "id": "B_ZJFDzAOfMO",
        "colab": {
          "base_uri": "https://localhost:8080/"
        },
        "outputId": "2b20aa4b-7e4e-45b4-ef46-3e0a56b62689"
      },
      "source": [
        "lg_cross_val"
      ],
      "execution_count": null,
      "outputs": [
        {
          "output_type": "execute_result",
          "data": {
            "text/plain": [
              "0.48673848103557527"
            ]
          },
          "metadata": {},
          "execution_count": 56
        }
      ]
    },
    {
      "cell_type": "code",
      "metadata": {
        "id": "rPZOsxWCrzmM"
      },
      "source": [
        "params = {}\n",
        "\n",
        "params['logisticregression__C'] = [0.1,1,10]\n"
      ],
      "execution_count": null,
      "outputs": []
    },
    {
      "cell_type": "code",
      "metadata": {
        "id": "MEC9so6Assb7"
      },
      "source": [
        "lGgrid = GridSearchCV(LGpipe, params, cv=5,scoring='accuracy' )\n",
        "lGgrid.fit(X_train_full,y_train)"
      ],
      "execution_count": null,
      "outputs": []
    },
    {
      "cell_type": "code",
      "metadata": {
        "colab": {
          "base_uri": "https://localhost:8080/"
        },
        "id": "NZ0InDB300re",
        "outputId": "0f2b5222-2a2d-4e9a-966c-f8c74a7cfebb"
      },
      "source": [
        "lGgrid.best_score_"
      ],
      "execution_count": null,
      "outputs": [
        {
          "output_type": "execute_result",
          "data": {
            "text/plain": [
              "0.47883833693727"
            ]
          },
          "metadata": {},
          "execution_count": 56
        }
      ]
    },
    {
      "cell_type": "markdown",
      "metadata": {
        "id": "vqKhD0onl6l5"
      },
      "source": [
        "### DesicionTree"
      ]
    },
    {
      "cell_type": "code",
      "metadata": {
        "id": "b34tbDw4l9Cg",
        "colab": {
          "base_uri": "https://localhost:8080/"
        },
        "outputId": "2c7e55a8-8a15-48ec-8fb7-df2c1a51e2a6"
      },
      "source": [
        "# Create Decision Tree classifer object\n",
        "dtc = DecisionTreeClassifier()\n",
        "\n",
        "dtcPipe = make_pipeline(full_pipeline,dtc)\n",
        "dtcPipe.fit(X_train_full,y_train)\n",
        "\n"
      ],
      "execution_count": null,
      "outputs": [
        {
          "output_type": "execute_result",
          "data": {
            "text/plain": [
              "Pipeline(steps=[('columntransformer',\n",
              "                 ColumnTransformer(transformers=[('numerical',\n",
              "                                                  Pipeline(steps=[('mismax_scaler',\n",
              "                                                                   MinMaxScaler())]),\n",
              "                                                  ['popularity', 'acousticness',\n",
              "                                                   'danceability',\n",
              "                                                   'duration_ms', 'energy',\n",
              "                                                   'instrumentalness',\n",
              "                                                   'liveness', 'loudness',\n",
              "                                                   'speechiness', 'tempo',\n",
              "                                                   'valence']),\n",
              "                                                 ('cat', OrdinalEncoder(),\n",
              "                                                  ['key']),\n",
              "                                                 ('cat1', OrdinalEncoder(),\n",
              "                                                  ['mode'])])),\n",
              "                ('decisiontreeclassifier', DecisionTreeClassifier())])"
            ]
          },
          "metadata": {},
          "execution_count": 35
        }
      ]
    },
    {
      "cell_type": "code",
      "metadata": {
        "id": "a3zqk_WVolfr"
      },
      "source": [
        "y_pred_dtc =  dtcPipe.predict(X_valid_full)"
      ],
      "execution_count": null,
      "outputs": []
    },
    {
      "cell_type": "code",
      "metadata": {
        "id": "xrDBJYGKoxwZ",
        "colab": {
          "base_uri": "https://localhost:8080/"
        },
        "outputId": "b63d72e1-63e3-4611-83f7-617c4d0fe99b"
      },
      "source": [
        "print(accuracy_score(y_valid, y_pred_dtc))"
      ],
      "execution_count": null,
      "outputs": [
        {
          "output_type": "stream",
          "name": "stdout",
          "text": [
            "0.2961624505248666\n"
          ]
        }
      ]
    },
    {
      "cell_type": "code",
      "metadata": {
        "id": "PVD3L7mHVU5X"
      },
      "source": [
        "dtc_cross_val = cross_val_score(dtcPipe,X_train_full,y_train,cv=5,scoring='accuracy').mean()"
      ],
      "execution_count": null,
      "outputs": []
    },
    {
      "cell_type": "code",
      "metadata": {
        "id": "b73vD82k62QZ",
        "colab": {
          "base_uri": "https://localhost:8080/"
        },
        "outputId": "f977a513-cdab-485d-b6aa-51201b41faa6"
      },
      "source": [
        "dtc_cross_val"
      ],
      "execution_count": null,
      "outputs": [
        {
          "output_type": "execute_result",
          "data": {
            "text/plain": [
              "0.2736076418249154"
            ]
          },
          "metadata": {},
          "execution_count": 110
        }
      ]
    },
    {
      "cell_type": "markdown",
      "metadata": {
        "id": "86J-a0eBl5lS"
      },
      "source": [
        "### RandomForest"
      ]
    },
    {
      "cell_type": "code",
      "metadata": {
        "id": "CfR6kH-iyHTy",
        "colab": {
          "base_uri": "https://localhost:8080/"
        },
        "outputId": "6df08588-a121-4e3a-9ce5-2bf6a8871530"
      },
      "source": [
        "from sklearn.ensemble import RandomForestClassifier\n",
        "\n",
        "rfc = RandomForestClassifier(n_estimators=250, random_state=42)\n",
        "\n",
        "rfcPipe = make_pipeline(full_pipeline,rfc)\n",
        "rfcPipe.fit(X_train_full,y_train)\n",
        "\n",
        "\n"
      ],
      "execution_count": null,
      "outputs": [
        {
          "output_type": "execute_result",
          "data": {
            "text/plain": [
              "Pipeline(steps=[('columntransformer',\n",
              "                 ColumnTransformer(transformers=[('numerical',\n",
              "                                                  Pipeline(steps=[('mismax_scaler',\n",
              "                                                                   MinMaxScaler())]),\n",
              "                                                  ['danceability', 'energy',\n",
              "                                                   'loudness', 'speechiness',\n",
              "                                                   'acousticness',\n",
              "                                                   'instrumentalness',\n",
              "                                                   'liveness', 'valence',\n",
              "                                                   'tempo', 'duration_ms'])])),\n",
              "                ('randomforestclassifier',\n",
              "                 RandomForestClassifier(n_estimators=250, random_state=42))])"
            ]
          },
          "metadata": {},
          "execution_count": 38
        }
      ]
    },
    {
      "cell_type": "code",
      "metadata": {
        "id": "_e7et2EN4jEs"
      },
      "source": [
        "predict = rfcPipe.predict(X_valid_full)"
      ],
      "execution_count": null,
      "outputs": []
    },
    {
      "cell_type": "code",
      "metadata": {
        "id": "GhxjxC2n46uE",
        "colab": {
          "base_uri": "https://localhost:8080/"
        },
        "outputId": "d09d271b-8734-43be-e270-778eff48903c"
      },
      "source": [
        "print(accuracy_score(y_valid, predict))"
      ],
      "execution_count": null,
      "outputs": [
        {
          "output_type": "stream",
          "name": "stdout",
          "text": [
            "0.6706586826347305\n"
          ]
        }
      ]
    },
    {
      "cell_type": "code",
      "metadata": {
        "id": "GMwz_mbXIhdN"
      },
      "source": [
        "from sklearn.metrics import roc_auc_score\n",
        "\n"
      ],
      "execution_count": null,
      "outputs": []
    },
    {
      "cell_type": "code",
      "metadata": {
        "id": "EvEzWycTVbLU"
      },
      "source": [
        "rfc_cross_val = cross_val_score(rfcPipe,X_train_full,y_train,cv=5,scoring='accuracy')"
      ],
      "execution_count": null,
      "outputs": []
    },
    {
      "cell_type": "code",
      "metadata": {
        "id": "OUrp9YP-78y8",
        "colab": {
          "base_uri": "https://localhost:8080/"
        },
        "outputId": "4414b531-934c-4b21-a1bb-a3949d0ad678"
      },
      "source": [
        "rfc_cross_val"
      ],
      "execution_count": null,
      "outputs": [
        {
          "output_type": "execute_result",
          "data": {
            "text/plain": [
              "array([0.57264416, 0.56802752, 0.57137684, 0.57409251, 0.56748438])"
            ]
          },
          "metadata": {},
          "execution_count": 61
        }
      ]
    },
    {
      "cell_type": "code",
      "metadata": {
        "id": "z5Vfk2rDyLEG"
      },
      "source": [
        "predict = rfc.predict(X_valid_full)\n",
        "print(accuracy_score(y_valid, predict))"
      ],
      "execution_count": null,
      "outputs": []
    },
    {
      "cell_type": "markdown",
      "metadata": {
        "id": "Q5FxtF6bnwmR"
      },
      "source": [
        "###KNN"
      ]
    },
    {
      "cell_type": "code",
      "metadata": {
        "id": "yvYNtdFT7OfL",
        "colab": {
          "base_uri": "https://localhost:8080/",
          "height": 245
        },
        "outputId": "54dd89f9-f7f4-45cd-d7ff-4d429f5341eb"
      },
      "source": [
        "from sklearn.neighbors import KNeighborsClassifier\n",
        "knn = KNeighborsClassifier(n_neighbors = 50)\n",
        "knnPipe = make_pipeline(full_pipeline,pca,knn)\n",
        "knnPipe.fit(X_train_full, y_train)\n",
        "#y_pred_knn = knn.predict(X_valid_full)\n",
        "#print(accuracy_score(y_valid, y_pred_knn))\n"
      ],
      "execution_count": null,
      "outputs": [
        {
          "output_type": "error",
          "ename": "NameError",
          "evalue": "ignored",
          "traceback": [
            "\u001b[0;31m---------------------------------------------------------------------------\u001b[0m",
            "\u001b[0;31mNameError\u001b[0m                                 Traceback (most recent call last)",
            "\u001b[0;32m<ipython-input-41-9c24cafab9f6>\u001b[0m in \u001b[0;36m<module>\u001b[0;34m()\u001b[0m\n\u001b[1;32m      1\u001b[0m \u001b[0;32mfrom\u001b[0m \u001b[0msklearn\u001b[0m\u001b[0;34m.\u001b[0m\u001b[0mneighbors\u001b[0m \u001b[0;32mimport\u001b[0m \u001b[0mKNeighborsClassifier\u001b[0m\u001b[0;34m\u001b[0m\u001b[0;34m\u001b[0m\u001b[0m\n\u001b[1;32m      2\u001b[0m \u001b[0mknn\u001b[0m \u001b[0;34m=\u001b[0m \u001b[0mKNeighborsClassifier\u001b[0m\u001b[0;34m(\u001b[0m\u001b[0mn_neighbors\u001b[0m \u001b[0;34m=\u001b[0m \u001b[0;36m50\u001b[0m\u001b[0;34m)\u001b[0m\u001b[0;34m\u001b[0m\u001b[0;34m\u001b[0m\u001b[0m\n\u001b[0;32m----> 3\u001b[0;31m \u001b[0mknnPipe\u001b[0m \u001b[0;34m=\u001b[0m \u001b[0mmake_pipeline\u001b[0m\u001b[0;34m(\u001b[0m\u001b[0mfull_pipeline\u001b[0m\u001b[0;34m,\u001b[0m\u001b[0mpca\u001b[0m\u001b[0;34m,\u001b[0m\u001b[0mknn\u001b[0m\u001b[0;34m)\u001b[0m\u001b[0;34m\u001b[0m\u001b[0;34m\u001b[0m\u001b[0m\n\u001b[0m\u001b[1;32m      4\u001b[0m \u001b[0mknnPipe\u001b[0m\u001b[0;34m.\u001b[0m\u001b[0mfit\u001b[0m\u001b[0;34m(\u001b[0m\u001b[0mX_train_full\u001b[0m\u001b[0;34m,\u001b[0m \u001b[0my_train\u001b[0m\u001b[0;34m)\u001b[0m\u001b[0;34m\u001b[0m\u001b[0;34m\u001b[0m\u001b[0m\n\u001b[1;32m      5\u001b[0m \u001b[0;31m#y_pred_knn = knn.predict(X_valid_full)\u001b[0m\u001b[0;34m\u001b[0m\u001b[0;34m\u001b[0m\u001b[0;34m\u001b[0m\u001b[0m\n",
            "\u001b[0;31mNameError\u001b[0m: name 'pca' is not defined"
          ]
        }
      ]
    },
    {
      "cell_type": "code",
      "metadata": {
        "id": "PbnTlBrV-4-I",
        "colab": {
          "base_uri": "https://localhost:8080/"
        },
        "outputId": "cdc2043d-4167-422a-81f5-48fd136caf3b"
      },
      "source": [
        "y_pred_knn = knnPipe.predict(X_valid_full)\n",
        "print(accuracy_score(y_valid, y_pred_knn))\n"
      ],
      "execution_count": null,
      "outputs": [
        {
          "output_type": "stream",
          "name": "stdout",
          "text": [
            "0.5432494057148402\n"
          ]
        }
      ]
    },
    {
      "cell_type": "code",
      "metadata": {
        "id": "F6VcYyvCyrav"
      },
      "source": [
        "# Numero de arboles\n",
        "n_estimators = [int(x) for x in np.linspace(start = 50, stop = 200, num = 4)]\n",
        "# Numero de features considerado al dividir\n",
        "max_features = ['auto', 'sqrt']\n",
        "# numero maximo de niveles\n",
        "#max_depth = [2,4]\n",
        "# Numero minimo de niveles por nodo\n",
        "#min_samples_split = [2, 5]\n",
        "# Numero minimo de niveles por hoja\n",
        "#min_samples_leaf = [1, 2]\n",
        "# metodo de seleccion por arbol \n",
        "bootstrap = [True, False]"
      ],
      "execution_count": null,
      "outputs": []
    },
    {
      "cell_type": "code",
      "metadata": {
        "colab": {
          "base_uri": "https://localhost:8080/"
        },
        "id": "xdNCIpS2AVjR",
        "outputId": "c31e98ff-8510-4834-9ddf-9d849d9be9f4"
      },
      "source": [
        "n_estimators"
      ],
      "execution_count": null,
      "outputs": [
        {
          "output_type": "execute_result",
          "data": {
            "text/plain": [
              "[50, 100, 150, 200]"
            ]
          },
          "metadata": {},
          "execution_count": 46
        }
      ]
    },
    {
      "cell_type": "markdown",
      "metadata": {
        "id": "veu4QdkZn49l"
      },
      "source": [
        "### GridSerchCv RandonForest"
      ]
    },
    {
      "cell_type": "code",
      "metadata": {
        "id": "Wh1crlC3yuHh"
      },
      "source": [
        "#'randomforestclassifier__n_jobs': None\n",
        "#'randomforestclassifier__n_estimators': 30,\n",
        "params = {}\n",
        "\n",
        "\n",
        "# Grilla\n",
        "param_grid = {}\n",
        "param_grid['randomforestclassifier__n_estimators'] = n_estimators\n",
        "#param_grid['randomforestclassifier__max_features'] = max_features\n",
        "#param_grid['randomforestclassifier__max_depth'] = max_depth\n",
        "#param_grid['randomforestclassifier__min_samples_split'] = min_samples_split\n",
        "#param_grid['randomforestclassifier__min_samples_leaf'] = min_samples_leaf = [1, 2]\n",
        "param_grid['randomforestclassifier__bootstrap']  = bootstrap\n",
        "          \n",
        "          \n",
        "               #'bootstrap': bootstrap"
      ],
      "execution_count": null,
      "outputs": []
    },
    {
      "cell_type": "code",
      "metadata": {
        "id": "8nDRxeJcyw7l"
      },
      "source": [
        "from sklearn.model_selection import GridSearchCV\n",
        "rfc_Grid = GridSearchCV(estimator = rfcPipe, param_grid = param_grid, cv = 3, scoring='accuracy')\n",
        "#, verbose=2, n_jobs = 4"
      ],
      "execution_count": null,
      "outputs": []
    },
    {
      "cell_type": "code",
      "metadata": {
        "id": "O2G0dUgZyzVy",
        "colab": {
          "base_uri": "https://localhost:8080/"
        },
        "outputId": "4a5d7b56-4c07-4a61-e6af-e3f565024d9f"
      },
      "source": [
        "rfc_Grid.fit(X_train_full, y_train)\n"
      ],
      "execution_count": null,
      "outputs": [
        {
          "output_type": "execute_result",
          "data": {
            "text/plain": [
              "GridSearchCV(cv=3,\n",
              "             estimator=Pipeline(steps=[('columntransformer',\n",
              "                                        ColumnTransformer(transformers=[('numerical',\n",
              "                                                                         Pipeline(steps=[('mismax_scaler',\n",
              "                                                                                          MinMaxScaler())]),\n",
              "                                                                         ['danceability',\n",
              "                                                                          'energy',\n",
              "                                                                          'loudness',\n",
              "                                                                          'speechiness',\n",
              "                                                                          'acousticness',\n",
              "                                                                          'instrumentalness',\n",
              "                                                                          'liveness',\n",
              "                                                                          'valence',\n",
              "                                                                          'tempo',\n",
              "                                                                          'duration_ms'])])),\n",
              "                                       ('randomforestclassifier',\n",
              "                                        RandomForestClassifier(n_estimators=250,\n",
              "                                                               random_state=42))]),\n",
              "             param_grid={'randomforestclassifier__bootstrap': [True, False],\n",
              "                         'randomforestclassifier__n_estimators': [50, 100, 150,\n",
              "                                                                  200]},\n",
              "             scoring='accuracy')"
            ]
          },
          "metadata": {},
          "execution_count": 50
        }
      ]
    },
    {
      "cell_type": "code",
      "metadata": {
        "id": "fLJkqT6bf1sT",
        "colab": {
          "base_uri": "https://localhost:8080/"
        },
        "outputId": "e1ac526d-c0cc-4c9f-9fd2-edf3e55d57ee"
      },
      "source": [
        "rfcPipe.get_params()"
      ],
      "execution_count": null,
      "outputs": [
        {
          "output_type": "execute_result",
          "data": {
            "text/plain": [
              "{'columntransformer': ColumnTransformer(transformers=[('numerical',\n",
              "                                  Pipeline(steps=[('mismax_scaler',\n",
              "                                                   MinMaxScaler())]),\n",
              "                                  ['danceability', 'energy', 'key', 'loudness',\n",
              "                                   'mode', 'speechiness', 'acousticness',\n",
              "                                   'instrumentalness', 'liveness', 'valence',\n",
              "                                   'tempo', 'duration_ms', 'time_signature'])]),\n",
              " 'columntransformer__n_jobs': None,\n",
              " 'columntransformer__numerical': Pipeline(steps=[('mismax_scaler', MinMaxScaler())]),\n",
              " 'columntransformer__numerical__memory': None,\n",
              " 'columntransformer__numerical__mismax_scaler': MinMaxScaler(),\n",
              " 'columntransformer__numerical__mismax_scaler__clip': False,\n",
              " 'columntransformer__numerical__mismax_scaler__copy': True,\n",
              " 'columntransformer__numerical__mismax_scaler__feature_range': (0, 1),\n",
              " 'columntransformer__numerical__steps': [('mismax_scaler', MinMaxScaler())],\n",
              " 'columntransformer__numerical__verbose': False,\n",
              " 'columntransformer__remainder': 'drop',\n",
              " 'columntransformer__sparse_threshold': 0.3,\n",
              " 'columntransformer__transformer_weights': None,\n",
              " 'columntransformer__transformers': [('numerical',\n",
              "   Pipeline(steps=[('mismax_scaler', MinMaxScaler())]),\n",
              "   ['danceability',\n",
              "    'energy',\n",
              "    'key',\n",
              "    'loudness',\n",
              "    'mode',\n",
              "    'speechiness',\n",
              "    'acousticness',\n",
              "    'instrumentalness',\n",
              "    'liveness',\n",
              "    'valence',\n",
              "    'tempo',\n",
              "    'duration_ms',\n",
              "    'time_signature'])],\n",
              " 'columntransformer__verbose': False,\n",
              " 'columntransformer__verbose_feature_names_out': True,\n",
              " 'memory': None,\n",
              " 'randomforestclassifier': RandomForestClassifier(n_estimators=250, random_state=42),\n",
              " 'randomforestclassifier__bootstrap': True,\n",
              " 'randomforestclassifier__ccp_alpha': 0.0,\n",
              " 'randomforestclassifier__class_weight': None,\n",
              " 'randomforestclassifier__criterion': 'gini',\n",
              " 'randomforestclassifier__max_depth': None,\n",
              " 'randomforestclassifier__max_features': 'auto',\n",
              " 'randomforestclassifier__max_leaf_nodes': None,\n",
              " 'randomforestclassifier__max_samples': None,\n",
              " 'randomforestclassifier__min_impurity_decrease': 0.0,\n",
              " 'randomforestclassifier__min_samples_leaf': 1,\n",
              " 'randomforestclassifier__min_samples_split': 2,\n",
              " 'randomforestclassifier__min_weight_fraction_leaf': 0.0,\n",
              " 'randomforestclassifier__n_estimators': 250,\n",
              " 'randomforestclassifier__n_jobs': None,\n",
              " 'randomforestclassifier__oob_score': False,\n",
              " 'randomforestclassifier__random_state': 42,\n",
              " 'randomforestclassifier__verbose': 0,\n",
              " 'randomforestclassifier__warm_start': False,\n",
              " 'steps': [('columntransformer', ColumnTransformer(transformers=[('numerical',\n",
              "                                    Pipeline(steps=[('mismax_scaler',\n",
              "                                                     MinMaxScaler())]),\n",
              "                                    ['danceability', 'energy', 'key', 'loudness',\n",
              "                                     'mode', 'speechiness', 'acousticness',\n",
              "                                     'instrumentalness', 'liveness', 'valence',\n",
              "                                     'tempo', 'duration_ms', 'time_signature'])])),\n",
              "  ('randomforestclassifier',\n",
              "   RandomForestClassifier(n_estimators=250, random_state=42))],\n",
              " 'verbose': False}"
            ]
          },
          "metadata": {},
          "execution_count": 48
        }
      ]
    },
    {
      "cell_type": "code",
      "metadata": {
        "id": "gw5PnOrk7MSw",
        "colab": {
          "base_uri": "https://localhost:8080/"
        },
        "outputId": "4d23b93a-68e5-4510-8750-c99bfed76ac1"
      },
      "source": [
        "rfc_Grid.best_score_"
      ],
      "execution_count": null,
      "outputs": [
        {
          "output_type": "execute_result",
          "data": {
            "text/plain": [
              "0.66555221823146"
            ]
          },
          "metadata": {},
          "execution_count": 47
        }
      ]
    },
    {
      "cell_type": "code",
      "metadata": {
        "id": "GfXqBtZRwa_p"
      },
      "source": [
        "\n",
        "from sklearn.ensemble import GradientBoostingClassifier\n",
        "clf = GradientBoostingClassifier(n_estimators=250,\n",
        "     max_depth=5, random_state=0)"
      ],
      "execution_count": null,
      "outputs": []
    },
    {
      "cell_type": "code",
      "metadata": {
        "id": "x7AiyRm7ht3w",
        "colab": {
          "base_uri": "https://localhost:8080/"
        },
        "outputId": "ca1a4d7a-2c21-4941-fa99-d76251bfebc8"
      },
      "source": [
        "XGBpipe = make_pipeline(full_pipeline, clf)\n",
        "XGBpipe.fit(X_train_full,y_train)"
      ],
      "execution_count": null,
      "outputs": [
        {
          "output_type": "execute_result",
          "data": {
            "text/plain": [
              "Pipeline(steps=[('columntransformer',\n",
              "                 ColumnTransformer(transformers=[('numerical',\n",
              "                                                  Pipeline(steps=[('mismax_scaler',\n",
              "                                                                   MinMaxScaler())]),\n",
              "                                                  ['danceability', 'energy',\n",
              "                                                   'key', 'loudness', 'mode',\n",
              "                                                   'speechiness',\n",
              "                                                   'acousticness',\n",
              "                                                   'instrumentalness',\n",
              "                                                   'liveness', 'valence',\n",
              "                                                   'tempo', 'duration_ms',\n",
              "                                                   'time_signature'])])),\n",
              "                ('gradientboostingclassifier',\n",
              "                 GradientBoostingClassifier(max_depth=5, n_estimators=250,\n",
              "                                            random_state=0))])"
            ]
          },
          "metadata": {},
          "execution_count": 51
        }
      ]
    },
    {
      "cell_type": "code",
      "metadata": {
        "id": "-Y4xXL71eFFF"
      },
      "source": [
        "y_pred_GB =  XGBpipe.predict(X_valid_full)"
      ],
      "execution_count": null,
      "outputs": []
    },
    {
      "cell_type": "code",
      "metadata": {
        "colab": {
          "base_uri": "https://localhost:8080/"
        },
        "id": "WkupiogxeSH_",
        "outputId": "6a70fc52-30c6-4284-a713-f35a82dacc46"
      },
      "source": [
        "print(accuracy_score(y_valid, y_pred_GB))"
      ],
      "execution_count": null,
      "outputs": [
        {
          "output_type": "stream",
          "name": "stdout",
          "text": [
            "0.681295304128585\n"
          ]
        }
      ]
    },
    {
      "cell_type": "code",
      "metadata": {
        "id": "46_XFkFthy7Y"
      },
      "source": [
        "XGboost_cross_val = cross_val_score(XGBpipe,X_train_full,y_train,cv=5,scoring='accuracy')"
      ],
      "execution_count": null,
      "outputs": []
    },
    {
      "cell_type": "code",
      "metadata": {
        "colab": {
          "base_uri": "https://localhost:8080/"
        },
        "id": "pRd2PToJ7UvW",
        "outputId": "95982bf0-a479-4f9a-89a6-45e9b829e196"
      },
      "source": [
        "XGboost_cross_val"
      ],
      "execution_count": null,
      "outputs": [
        {
          "output_type": "execute_result",
          "data": {
            "text/plain": [
              "array([0.56015208, 0.56531185, 0.56078573, 0.55897529, 0.55562596])"
            ]
          },
          "metadata": {},
          "execution_count": 26
        }
      ]
    },
    {
      "cell_type": "code",
      "metadata": {
        "id": "ZFRjPZj29dqD"
      },
      "source": [
        "from sklearn.metrics import roc_auc_score"
      ],
      "execution_count": null,
      "outputs": []
    }
  ]
}

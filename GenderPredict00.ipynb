{
  "nbformat": 4,
  "nbformat_minor": 0,
  "metadata": {
    "colab": {
      "name": "Copy of  Proyecto AA prueba RandomForest LogistalRegression ",
      "provenance": [],
      "collapsed_sections": [],
      "include_colab_link": true
    },
    "kernelspec": {
      "display_name": "Python 3",
      "name": "python3"
    },
    "language_info": {
      "name": "python"
    }
  },
  "cells": [
    {
      "cell_type": "markdown",
      "metadata": {
        "id": "view-in-github",
        "colab_type": "text"
      },
      "source": [
        "<a href=\"https://colab.research.google.com/github/CyberJuan55/GenderPredict/blob/master/GenderPredict00.ipynb\" target=\"_parent\"><img src=\"https://colab.research.google.com/assets/colab-badge.svg\" alt=\"Open In Colab\"/></a>"
      ]
    },
    {
      "cell_type": "code",
      "metadata": {
        "id": "GeaBo8GXBlVL"
      },
      "source": [
        "import pandas as pd \n",
        "import seaborn as sns\n",
        "import matplotlib.pyplot as plt\n",
        "from sklearn.pipeline import Pipeline\n",
        "from sklearn.pipeline import make_pipeline\n",
        "from sklearn.preprocessing import OneHotEncoder, OrdinalEncoder, LabelEncoder, label_binarize\n",
        "from sklearn.preprocessing import StandardScaler, RobustScaler, Normalizer\n",
        "from sklearn.preprocessing import MinMaxScaler\n",
        "from sklearn.compose import ColumnTransformer\n",
        "from sklearn.svm import LinearSVC\n",
        "from sklearn.multiclass import OneVsRestClassifier\n",
        "from sklearn.model_selection import GridSearchCV\n",
        "from sklearn.linear_model import LogisticRegression\n",
        "from sklearn.tree import DecisionTreeClassifier \n",
        "import numpy as np\n",
        "from sklearn.metrics import accuracy_score, confusion_matrix\n",
        "from scipy import stats\n",
        "\n",
        "urlTrain  = 'https://raw.githubusercontent.com/CyberJuan55/GenderPredict/master/Dataset/SpotifyFeatures.csv_train.csv'\n",
        "urlFull = 'https://github.com/CyberJuan55/GenderPredict/blob/master/Dataset/SpotifyFeatures.csv'\n",
        "urlNuevoDataSet = 'https://github.com/CyberJuan55/GenderPredict/blob/master/Dataset/genres_v2.csv'\n",
        "\n",
        "\n",
        "\n",
        "df_train_original = pd.read_csv(urlTrain)\n",
        "\n",
        "df_train = df_train_original.copy()\n"
      ],
      "execution_count": 16,
      "outputs": []
    },
    {
      "cell_type": "code",
      "metadata": {
        "id": "a4N94H3lygEI",
        "outputId": "ec6479cd-5845-4366-9116-ead137938a1c",
        "colab": {
          "base_uri": "https://localhost:8080/"
        }
      },
      "source": [
        "df_train.genre.unique()"
      ],
      "execution_count": 6,
      "outputs": [
        {
          "output_type": "execute_result",
          "data": {
            "text/plain": [
              "array(['Opera', 'Reggaeton', 'Indie', 'Soundtrack', 'Hip-Hop', 'World',\n",
              "       'Classical', 'Electronic', 'Reggae', 'Alternative', 'Ska', 'Movie',\n",
              "       'Jazz', 'Rock', 'Country', 'R&B', 'Rap', 'Folk', 'Anime',\n",
              "       \"Children's Music\", 'Children’s Music', 'Pop', 'Dance', 'Blues',\n",
              "       'Comedy', 'Soul', 'A Capella'], dtype=object)"
            ]
          },
          "metadata": {},
          "execution_count": 6
        }
      ]
    },
    {
      "cell_type": "code",
      "metadata": {
        "id": "AhlmTizcyf8Q"
      },
      "source": [
        ""
      ],
      "execution_count": null,
      "outputs": []
    },
    {
      "cell_type": "markdown",
      "metadata": {
        "id": "PoEJIv4hqDe1"
      },
      "source": [
        "### Preprocesado de datos y visualizacion "
      ]
    },
    {
      "cell_type": "code",
      "metadata": {
        "id": "7o6tPneUaeji"
      },
      "source": [
        "# Funcion para el preprocesamiento de datos\n",
        "def preprocesado(df,out=False):\n",
        "\n",
        "\n",
        "    df.dropna(axis=0, inplace=True)\n",
        "    df.drop_duplicates\n",
        "\n",
        "    if df.duplicated().sum() == 0:\n",
        "        print('no hay datos duplicados')\n",
        "    else:\n",
        "        df.drop_duplicates\n",
        "    if 'Unnamed: 0' in df.columns:\n",
        "        df = df.drop(['Unnamed: 0'], axis=1)\n",
        "\n",
        "    #df_train = df.drop(['Unnamed: 0'], axis=1)\n",
        "\n",
        "    df = df.drop(['track_name','artist_name','track_id','time_signature'], axis=1)\n",
        "    df['genre']= df['genre'].replace([\"Children’s Music\"],\"Children's Music\")\n",
        "\n",
        "    indexNamesChildren = df[ df['genre'] == \"Children's Music\" ].index\n",
        "    df.drop(indexNamesChildren , inplace=True)\n",
        "\n",
        "    indexNamesAcapella = df[ df['genre'] == \"A Capella\"].index\n",
        "    df.drop(indexNamesAcapella , inplace=True)\n",
        "#-------------------------------------------------------------------------------\n",
        " \n",
        "\n",
        "    #indexPOP = df[df.popularity==0].index\n",
        "    #df.drop(indexPOP , inplace=True)\n",
        "\n",
        "    #indexACO = df[df.acousticness < 0.02] .index\n",
        "    #df.drop(indexACO , inplace=True)\n",
        "    #indexACO1 = df[df.acousticness > 0.98] .index\n",
        "    #df.drop(indexACO1 , inplace=True)\n",
        "\n",
        "    #indexVAL = df[df.valence < 0.08] .index\n",
        "    #df.drop(indexVAL , inplace=True)\n",
        "    #indexVAL1 = df[df.valence > 0.9] .index\n",
        "    #df.drop(indexVAL1 , inplace=True)\n",
        "#-------------------------------------------------------------------------------\n",
        "\n",
        "    cols_with_missing = [col for col in df.columns if df[col].isnull().any()] \n",
        "    faltanDatos = True\n",
        "    if len(cols_with_missing)==0:\n",
        "        faltanDatos= False\n",
        "        print('no faltan valores') \n",
        "    if faltanDatos == True:\n",
        "        print(cols_with_missing)\n",
        "        df.dropna(axis=0, inplace=True)\n",
        "#-------------------------------------------------------------------------------\n",
        "    y = df['genre']\n",
        "\n",
        "    if out == True:\n",
        "        labelencoder = LabelEncoder()\n",
        "        df[\"genre\"] = labelencoder.fit_transform(df[\"genre\"])\n",
        "\n",
        "        df_train_genres = df\n",
        "        generos=list(df_train['genre'].unique())\n",
        "\n",
        "        b = []\n",
        "        for i in generos:\n",
        "            df=df_train_genres[df_train_genres[\"genre\"]==i].drop(columns=[\"genre\",\"mode\",\"key\"])\n",
        "     \n",
        "            z = np.abs(stats.zscore(df))\n",
        "            a=np.where(z > 3)\n",
        "            outliers=list(set(list(a[0])))\n",
        "            ñ = [df.iloc[x,:].name for x in outliers]\n",
        "            b = ñ + b\n",
        "        df_train_genres.drop(b, axis = 0, inplace = True)\n",
        "\n",
        "        df = df_train_genres\n",
        "#-------------------------------------------------------------------------------\n",
        "    \n",
        "    X = df.drop(columns=['genre'])\n",
        "#-------------------------------------------------------------------------------   \n",
        "    return X,y \n"
      ],
      "execution_count": 17,
      "outputs": []
    },
    {
      "cell_type": "code",
      "metadata": {
        "id": "Bz1kZMM683DZ",
        "colab": {
          "base_uri": "https://localhost:8080/"
        },
        "outputId": "41f3c67b-8b1d-4c4c-b83a-fc5a7860cd13"
      },
      "source": [
        "df_train,y = preprocesado(df_train,out=False)"
      ],
      "execution_count": 18,
      "outputs": [
        {
          "output_type": "stream",
          "name": "stdout",
          "text": [
            "no hay datos duplicados\n",
            "no faltan valores\n"
          ]
        }
      ]
    },
    {
      "cell_type": "code",
      "metadata": {
        "colab": {
          "base_uri": "https://localhost:8080/",
          "height": 764
        },
        "id": "cM9fTvefyotR",
        "outputId": "b229065f-b916-4088-a409-8bf6d2f8dbbe"
      },
      "source": [
        "y.hist(bins=100, figsize=(25,15))"
      ],
      "execution_count": 9,
      "outputs": [
        {
          "output_type": "execute_result",
          "data": {
            "text/plain": [
              "<matplotlib.axes._subplots.AxesSubplot at 0x7fa26cb8f690>"
            ]
          },
          "metadata": {},
          "execution_count": 9
        },
        {
          "output_type": "display_data",
          "data": {
            "image/png": "[encoded data removed]",
            "text/plain": [
              "<Figure size 1800x1080 with 1 Axes>"
            ]
          },
          "metadata": {
            "needs_background": "light"
          }
        }
      ]
    },
    {
      "cell_type": "code",
      "metadata": {
        "id": "AAJqpQSt3vT8",
        "colab": {
          "base_uri": "https://localhost:8080/",
          "height": 977
        },
        "outputId": "335dfdec-1870-4e8d-a2ba-3744d605f386"
      },
      "source": [
        "df_train.hist(bins=500, figsize=(25,15))"
      ],
      "execution_count": 10,
      "outputs": [
        {
          "output_type": "execute_result",
          "data": {
            "text/plain": [
              "array([[<matplotlib.axes._subplots.AxesSubplot object at 0x7fa267beb9d0>,\n",
              "        <matplotlib.axes._subplots.AxesSubplot object at 0x7fa26c9568d0>,\n",
              "        <matplotlib.axes._subplots.AxesSubplot object at 0x7fa26d0f1ed0>],\n",
              "       [<matplotlib.axes._subplots.AxesSubplot object at 0x7fa26a321410>,\n",
              "        <matplotlib.axes._subplots.AxesSubplot object at 0x7fa26b843750>,\n",
              "        <matplotlib.axes._subplots.AxesSubplot object at 0x7fa26bce3210>],\n",
              "       [<matplotlib.axes._subplots.AxesSubplot object at 0x7fa26b9f5350>,\n",
              "        <matplotlib.axes._subplots.AxesSubplot object at 0x7fa26bef9550>,\n",
              "        <matplotlib.axes._subplots.AxesSubplot object at 0x7fa26b90dd90>],\n",
              "       [<matplotlib.axes._subplots.AxesSubplot object at 0x7fa26b8692d0>,\n",
              "        <matplotlib.axes._subplots.AxesSubplot object at 0x7fa26b88c790>,\n",
              "        <matplotlib.axes._subplots.AxesSubplot object at 0x7fa26b8a7c90>]],\n",
              "      dtype=object)"
            ]
          },
          "metadata": {},
          "execution_count": 10
        },
        {
          "output_type": "display_data",
          "data": {
            "image/png": "[encoded data removed]",
            "text/plain": [
              "<Figure size 1800x1080 with 12 Axes>"
            ]
          },
          "metadata": {
            "needs_background": "light"
          }
        }
      ]
    },
    {
      "cell_type": "code",
      "metadata": {
        "id": "Bir7xFjZx9tQ"
      },
      "source": [
        "#Borrar variables categoricas\n",
        "df_train = df_train.drop(['mode',\"key\"], axis=1) "
      ],
      "execution_count": null,
      "outputs": []
    },
    {
      "cell_type": "code",
      "metadata": {
        "id": "EHMElHKWg04A"
      },
      "source": [
        "from sklearn.model_selection import train_test_split, GridSearchCV, cross_val_score, cross_val_predict\n",
        "X_train_full, X_valid_full, y_train, y_valid = train_test_split(df_train, y, \n",
        "                                                                train_size=0.7, test_size=0.3,\n",
        "                                                                random_state=42)"
      ],
      "execution_count": 31,
      "outputs": []
    },
    {
      "cell_type": "code",
      "metadata": {
        "id": "qy0PcAAXR3A_"
      },
      "source": [
        "df_train_num = df_train.drop(['mode',\"key\"], axis=1) "
      ],
      "execution_count": 22,
      "outputs": []
    },
    {
      "cell_type": "code",
      "metadata": {
        "id": "lwlGFXS4fIho"
      },
      "source": [
        "from sklearn.pipeline import Pipeline\n",
        "from sklearn.preprocessing import OneHotEncoder, OrdinalEncoder\n",
        "from sklearn.preprocessing import StandardScaler\n",
        "from sklearn.compose import ColumnTransformer\n",
        "\n",
        "num_pipeline = Pipeline([\n",
        "        #('mismax_scaler', MinMaxScaler()),\n",
        "        #('standar_scaler', StandardScaler()),\n",
        "        ('Robust_scaler', RobustScaler()),\n",
        "        ('Normalize', Normalizer()),\n",
        "    ])\n",
        "#cat_attribs1 = [\"key\"]\n",
        "#cat_attribs2 = [\"mode\"]\n",
        "#cat_attribs3 = [\"time_signature\"]\n",
        "num_attribs = list(df_train_num)\n",
        "\n",
        "full_pipeline = ColumnTransformer([\n",
        "        ('numerical', num_pipeline, num_attribs),                          \n",
        "        #(\"cat\", OrdinalEncoder(), cat_attribs1),\n",
        "       # (\"cat1\", OrdinalEncoder(), cat_attribs2),\n",
        "        #(\"cat3\", OneHotEncoder(), cat_attribs3),\n",
        "    ])"
      ],
      "execution_count": 23,
      "outputs": []
    },
    {
      "cell_type": "code",
      "metadata": {
        "id": "fMcA7Eswgwlz"
      },
      "source": [
        "df_train_processed = full_pipeline.fit_transform(df_train)"
      ],
      "execution_count": 24,
      "outputs": []
    },
    {
      "cell_type": "code",
      "metadata": {
        "id": "56VdeIbM1fgA",
        "outputId": "0428d2cd-10b6-4d4e-a599-47d86ec55c88",
        "colab": {
          "base_uri": "https://localhost:8080/"
        }
      },
      "source": [
        "df_train_processed"
      ],
      "execution_count": 25,
      "outputs": [
        {
          "output_type": "execute_result",
          "data": {
            "text/plain": [
              "array([[-0.06515325,  0.04237354, -0.07200574, ..., -0.00762294,\n",
              "         0.02125077, -0.0424443 ],\n",
              "       [-0.37089263, -0.19340041,  0.64690575, ...,  0.37714776,\n",
              "        -0.23783805,  0.20228519],\n",
              "       [ 0.47770473,  0.04117845, -0.14754688, ..., -0.12386374,\n",
              "        -0.6425014 , -0.48587303],\n",
              "       ...,\n",
              "       [ 0.50017314, -0.14654488,  0.06350768, ...,  0.27127866,\n",
              "         0.17452367, -0.2471171 ],\n",
              "       [ 0.42237614, -0.00766507,  0.19440762, ...,  0.51806598,\n",
              "        -0.02177425,  0.47069039],\n",
              "       [-0.02783214,  0.02417668, -0.07299644, ..., -0.00428393,\n",
              "         0.03910191, -0.03413375]])"
            ]
          },
          "metadata": {},
          "execution_count": 25
        }
      ]
    },
    {
      "cell_type": "markdown",
      "metadata": {
        "id": "1mIADrXyREWn"
      },
      "source": [
        "##PCA"
      ]
    },
    {
      "cell_type": "code",
      "metadata": {
        "id": "CWUEHtmP3dqs"
      },
      "source": [
        "a = pd.DataFrame(df_train_processed)"
      ],
      "execution_count": 26,
      "outputs": []
    },
    {
      "cell_type": "code",
      "metadata": {
        "colab": {
          "base_uri": "https://localhost:8080/",
          "height": 419
        },
        "id": "Ue5nLyEl2Dg2",
        "outputId": "37f00a86-bc41-4da4-9aec-f09d5f80feee"
      },
      "source": [
        "a"
      ],
      "execution_count": 27,
      "outputs": [
        {
          "output_type": "execute_result",
          "data": {
            "text/html": [
              "<div>\n",
              "<style scoped>\n",
              "    .dataframe tbody tr th:only-of-type {\n",
              "        vertical-align: middle;\n",
              "    }\n",
              "\n",
              "    .dataframe tbody tr th {\n",
              "        vertical-align: top;\n",
              "    }\n",
              "\n",
              "    .dataframe thead th {\n",
              "        text-align: right;\n",
              "    }\n",
              "</style>\n",
              "<table border=\"1\" class=\"dataframe\">\n",
              "  <thead>\n",
              "    <tr style=\"text-align: right;\">\n",
              "      <th></th>\n",
              "      <th>0</th>\n",
              "      <th>1</th>\n",
              "      <th>2</th>\n",
              "      <th>3</th>\n",
              "      <th>4</th>\n",
              "      <th>5</th>\n",
              "      <th>6</th>\n",
              "      <th>7</th>\n",
              "      <th>8</th>\n",
              "      <th>9</th>\n",
              "      <th>10</th>\n",
              "    </tr>\n",
              "  </thead>\n",
              "  <tbody>\n",
              "    <tr>\n",
              "      <th>0</th>\n",
              "      <td>-0.065153</td>\n",
              "      <td>0.042374</td>\n",
              "      <td>-0.072006</td>\n",
              "      <td>-0.047566</td>\n",
              "      <td>-0.065096</td>\n",
              "      <td>0.983189</td>\n",
              "      <td>-0.010421</td>\n",
              "      <td>-0.114869</td>\n",
              "      <td>-0.007623</td>\n",
              "      <td>0.021251</td>\n",
              "      <td>-0.042444</td>\n",
              "    </tr>\n",
              "    <tr>\n",
              "      <th>1</th>\n",
              "      <td>-0.370893</td>\n",
              "      <td>-0.193400</td>\n",
              "      <td>0.646906</td>\n",
              "      <td>0.233919</td>\n",
              "      <td>-0.010167</td>\n",
              "      <td>0.000523</td>\n",
              "      <td>0.273681</td>\n",
              "      <td>0.192609</td>\n",
              "      <td>0.377148</td>\n",
              "      <td>-0.237838</td>\n",
              "      <td>0.202285</td>\n",
              "    </tr>\n",
              "    <tr>\n",
              "      <th>2</th>\n",
              "      <td>0.477705</td>\n",
              "      <td>0.041178</td>\n",
              "      <td>-0.147547</td>\n",
              "      <td>0.119608</td>\n",
              "      <td>-0.114113</td>\n",
              "      <td>-0.000422</td>\n",
              "      <td>0.237936</td>\n",
              "      <td>-0.012958</td>\n",
              "      <td>-0.123864</td>\n",
              "      <td>-0.642501</td>\n",
              "      <td>-0.485873</td>\n",
              "    </tr>\n",
              "    <tr>\n",
              "      <th>3</th>\n",
              "      <td>0.021092</td>\n",
              "      <td>0.027407</td>\n",
              "      <td>-0.005927</td>\n",
              "      <td>-0.004983</td>\n",
              "      <td>0.001189</td>\n",
              "      <td>0.998601</td>\n",
              "      <td>-0.002802</td>\n",
              "      <td>-0.012325</td>\n",
              "      <td>-0.012175</td>\n",
              "      <td>-0.024872</td>\n",
              "      <td>-0.024749</td>\n",
              "    </tr>\n",
              "    <tr>\n",
              "      <th>4</th>\n",
              "      <td>-0.322419</td>\n",
              "      <td>0.240397</td>\n",
              "      <td>-0.183883</td>\n",
              "      <td>-0.142282</td>\n",
              "      <td>-0.236649</td>\n",
              "      <td>0.000369</td>\n",
              "      <td>0.754523</td>\n",
              "      <td>-0.286834</td>\n",
              "      <td>-0.015951</td>\n",
              "      <td>-0.256992</td>\n",
              "      <td>-0.101571</td>\n",
              "    </tr>\n",
              "    <tr>\n",
              "      <th>...</th>\n",
              "      <td>...</td>\n",
              "      <td>...</td>\n",
              "      <td>...</td>\n",
              "      <td>...</td>\n",
              "      <td>...</td>\n",
              "      <td>...</td>\n",
              "      <td>...</td>\n",
              "      <td>...</td>\n",
              "      <td>...</td>\n",
              "      <td>...</td>\n",
              "      <td>...</td>\n",
              "    </tr>\n",
              "    <tr>\n",
              "      <th>174227</th>\n",
              "      <td>-0.002879</td>\n",
              "      <td>0.054864</td>\n",
              "      <td>-0.029295</td>\n",
              "      <td>0.177524</td>\n",
              "      <td>0.066208</td>\n",
              "      <td>-0.000080</td>\n",
              "      <td>0.333986</td>\n",
              "      <td>0.031773</td>\n",
              "      <td>0.918201</td>\n",
              "      <td>-0.054872</td>\n",
              "      <td>-0.039556</td>\n",
              "    </tr>\n",
              "    <tr>\n",
              "      <th>174228</th>\n",
              "      <td>-0.278583</td>\n",
              "      <td>-0.166134</td>\n",
              "      <td>0.267868</td>\n",
              "      <td>0.106992</td>\n",
              "      <td>0.002685</td>\n",
              "      <td>0.238212</td>\n",
              "      <td>-0.082226</td>\n",
              "      <td>0.209340</td>\n",
              "      <td>0.672570</td>\n",
              "      <td>-0.460486</td>\n",
              "      <td>0.199638</td>\n",
              "    </tr>\n",
              "    <tr>\n",
              "      <th>174229</th>\n",
              "      <td>0.500173</td>\n",
              "      <td>-0.146545</td>\n",
              "      <td>0.063508</td>\n",
              "      <td>0.539117</td>\n",
              "      <td>0.223697</td>\n",
              "      <td>0.008470</td>\n",
              "      <td>0.447983</td>\n",
              "      <td>0.133237</td>\n",
              "      <td>0.271279</td>\n",
              "      <td>0.174524</td>\n",
              "      <td>-0.247117</td>\n",
              "    </tr>\n",
              "    <tr>\n",
              "      <th>174230</th>\n",
              "      <td>0.422376</td>\n",
              "      <td>-0.007665</td>\n",
              "      <td>0.194408</td>\n",
              "      <td>0.206841</td>\n",
              "      <td>-0.337425</td>\n",
              "      <td>-0.000557</td>\n",
              "      <td>-0.071684</td>\n",
              "      <td>-0.362701</td>\n",
              "      <td>0.518066</td>\n",
              "      <td>-0.021774</td>\n",
              "      <td>0.470690</td>\n",
              "    </tr>\n",
              "    <tr>\n",
              "      <th>174231</th>\n",
              "      <td>-0.027832</td>\n",
              "      <td>0.024177</td>\n",
              "      <td>-0.072996</td>\n",
              "      <td>-0.033242</td>\n",
              "      <td>-0.019299</td>\n",
              "      <td>0.994422</td>\n",
              "      <td>0.003560</td>\n",
              "      <td>-0.015300</td>\n",
              "      <td>-0.004284</td>\n",
              "      <td>0.039102</td>\n",
              "      <td>-0.034134</td>\n",
              "    </tr>\n",
              "  </tbody>\n",
              "</table>\n",
              "<p>174232 rows × 11 columns</p>\n",
              "</div>"
            ],
            "text/plain": [
              "              0         1         2   ...        8         9         10\n",
              "0      -0.065153  0.042374 -0.072006  ... -0.007623  0.021251 -0.042444\n",
              "1      -0.370893 -0.193400  0.646906  ...  0.377148 -0.237838  0.202285\n",
              "2       0.477705  0.041178 -0.147547  ... -0.123864 -0.642501 -0.485873\n",
              "3       0.021092  0.027407 -0.005927  ... -0.012175 -0.024872 -0.024749\n",
              "4      -0.322419  0.240397 -0.183883  ... -0.015951 -0.256992 -0.101571\n",
              "...          ...       ...       ...  ...       ...       ...       ...\n",
              "174227 -0.002879  0.054864 -0.029295  ...  0.918201 -0.054872 -0.039556\n",
              "174228 -0.278583 -0.166134  0.267868  ...  0.672570 -0.460486  0.199638\n",
              "174229  0.500173 -0.146545  0.063508  ...  0.271279  0.174524 -0.247117\n",
              "174230  0.422376 -0.007665  0.194408  ...  0.518066 -0.021774  0.470690\n",
              "174231 -0.027832  0.024177 -0.072996  ... -0.004284  0.039102 -0.034134\n",
              "\n",
              "[174232 rows x 11 columns]"
            ]
          },
          "metadata": {},
          "execution_count": 27
        }
      ]
    },
    {
      "cell_type": "code",
      "metadata": {
        "id": "MG-tbAvK_Z9_",
        "colab": {
          "base_uri": "https://localhost:8080/",
          "height": 980
        },
        "outputId": "218e577c-900b-4780-8fec-d34786650e35"
      },
      "source": [
        "a.hist(bins=500, figsize=(25,15))"
      ],
      "execution_count": 28,
      "outputs": [
        {
          "output_type": "execute_result",
          "data": {
            "text/plain": [
              "array([[<matplotlib.axes._subplots.AxesSubplot object at 0x7fa25dc91f50>,\n",
              "        <matplotlib.axes._subplots.AxesSubplot object at 0x7fa265851dd0>,\n",
              "        <matplotlib.axes._subplots.AxesSubplot object at 0x7fa26577c690>],\n",
              "       [<matplotlib.axes._subplots.AxesSubplot object at 0x7fa265925290>,\n",
              "        <matplotlib.axes._subplots.AxesSubplot object at 0x7fa2659f8cd0>,\n",
              "        <matplotlib.axes._subplots.AxesSubplot object at 0x7fa2656e5dd0>],\n",
              "       [<matplotlib.axes._subplots.AxesSubplot object at 0x7fa25a621b50>,\n",
              "        <matplotlib.axes._subplots.AxesSubplot object at 0x7fa265723b90>,\n",
              "        <matplotlib.axes._subplots.AxesSubplot object at 0x7fa2655d05d0>],\n",
              "       [<matplotlib.axes._subplots.AxesSubplot object at 0x7fa26545cad0>,\n",
              "        <matplotlib.axes._subplots.AxesSubplot object at 0x7fa26545f090>,\n",
              "        <matplotlib.axes._subplots.AxesSubplot object at 0x7fa26558e4d0>]],\n",
              "      dtype=object)"
            ]
          },
          "metadata": {},
          "execution_count": 28
        },
        {
          "output_type": "display_data",
          "data": {
            "image/png": "[encoded data removed]",
            "text/plain": [
              "<Figure size 1800x1080 with 12 Axes>"
            ]
          },
          "metadata": {
            "needs_background": "light"
          }
        }
      ]
    },
    {
      "cell_type": "code",
      "metadata": {
        "id": "6CtFEC3q25cd"
      },
      "source": [
        ""
      ],
      "execution_count": null,
      "outputs": []
    },
    {
      "cell_type": "code",
      "metadata": {
        "id": "L7yb3nrs3wDE",
        "colab": {
          "base_uri": "https://localhost:8080/",
          "height": 947
        },
        "outputId": "8290a395-ea3d-4ad6-d56a-dee9be9e3b41"
      },
      "source": [
        "f = plt.figure(figsize=[19,15])\n",
        "plt.matshow(a.corr(),fignum=f.number)\n",
        "plt.xticks(range(a.shape[1]),df_train.columns,rotation=45)\n",
        "plt.yticks(range(a.shape[1]),df_train.columns)\n",
        "cb = plt.colorbar()\n",
        "cb.ax.tick_params(labelsize=14)"
      ],
      "execution_count": 29,
      "outputs": [
        {
          "output_type": "display_data",
          "data": {
            "image/png": "[encoded data removed]",
            "text/plain": [
              "<Figure size 1368x1080 with 2 Axes>"
            ]
          },
          "metadata": {
            "needs_background": "light"
          }
        }
      ]
    },
    {
      "cell_type": "code",
      "metadata": {
        "id": "g64ScNLWAwdW"
      },
      "source": [
        "from sklearn.decomposition import PCA\n",
        "dim=[]\n",
        "var=[]\n",
        "for comp in range(3, df_train_processed.shape[1]):\n",
        "    dim.append(comp)\n",
        "    pca = PCA(n_components= comp, random_state=42)\n",
        "    pca.fit(df_train_processed)\n",
        "    comp_check = pca.explained_variance_ratio_\n",
        "    var.append(sum(comp_check))\n",
        "    final_comp = comp\n",
        "    if comp_check.sum() > 0.99:\n",
        "        break"
      ],
      "execution_count": null,
      "outputs": []
    },
    {
      "cell_type": "code",
      "metadata": {
        "id": "RwP9OU7hNOxw"
      },
      "source": [
        "from sklearn.decomposition import PCA\n",
        "pca = PCA()\n",
        "#n_components= 9, random_state=42"
      ],
      "execution_count": null,
      "outputs": []
    },
    {
      "cell_type": "code",
      "metadata": {
        "id": "jrw7pYBboVaL",
        "colab": {
          "base_uri": "https://localhost:8080/"
        },
        "outputId": "27abf1d0-6f8f-4628-bba3-d659115ed754"
      },
      "source": [
        "pca.fit(a)\n"
      ],
      "execution_count": null,
      "outputs": [
        {
          "output_type": "execute_result",
          "data": {
            "text/plain": [
              "PCA()"
            ]
          },
          "metadata": {},
          "execution_count": 19
        }
      ]
    },
    {
      "cell_type": "code",
      "metadata": {
        "id": "q4Ilp_dVon_e"
      },
      "source": [
        "x_pca = pca.transform(a)"
      ],
      "execution_count": null,
      "outputs": []
    },
    {
      "cell_type": "code",
      "metadata": {
        "id": "WJHCzzIipwrM",
        "colab": {
          "base_uri": "https://localhost:8080/"
        },
        "outputId": "db7a0164-c167-4ec1-d128-af4cc9185952"
      },
      "source": [
        "print(x_pca.shape)\n",
        "print(x_pca)"
      ],
      "execution_count": null,
      "outputs": [
        {
          "output_type": "stream",
          "name": "stdout",
          "text": [
            "(42305, 10)\n",
            "[[-0.33380312  0.07822701  0.01129328 ...  0.00890298 -0.06930656\n",
            "   0.08029903]\n",
            " [-0.28551139 -0.15628886  0.44100296 ... -0.09345936  0.00905497\n",
            "  -0.05125462]\n",
            " [-0.21579366 -0.3372649  -0.09037784 ... -0.36830464 -0.19230304\n",
            "   0.07970531]\n",
            " ...\n",
            " [-0.15000819 -0.46825103 -0.16312943 ...  0.02365097  0.01886144\n",
            "  -0.04602439]\n",
            " [-0.17858429 -0.03957168 -0.20115344 ...  0.00698641  0.11311407\n",
            "   0.01727898]\n",
            " [-0.1547352  -0.39204401 -0.21304885 ... -0.08237663 -0.07794336\n",
            "   0.08153472]]\n"
          ]
        }
      ]
    },
    {
      "cell_type": "code",
      "metadata": {
        "id": "JsN3krUqrDjr",
        "colab": {
          "base_uri": "https://localhost:8080/",
          "height": 298
        },
        "outputId": "36c301a0-5643-445e-ba4f-19dd28aef6bb"
      },
      "source": [
        "# con .explained_variance_ratio_ vemos la fracción de información que aporta cada componente\n",
        "evr = pca.explained_variance_ratio_\n",
        "\n",
        "# Graficamos la fracción de varianza que aporta cada componente\n",
        "# y la información acumulada\n",
        "fig, ax = plt.subplots(1, 2, figsize = (12, 4))\n",
        "\n",
        "ax[0].plot(range(1, len(evr) + 1), evr, '.-', markersize = 20)\n",
        "ax[0].set_ylabel('Fracción de varianza explicada')\n",
        "ax[0].set_xlabel('Número de componente principal')\n",
        "\n",
        "# Calculamos el acumulado con la función cumsum de numpy \n",
        "varianza_acumulada = np.cumsum(evr)\n",
        "\n",
        "ax[1].plot(range(1, len(evr) + 1), varianza_acumulada, '.-', markersize = 20)\n",
        "ax[1].set_ylabel('Fracción acumulada de varianza explicada')\n",
        "ax[1].set_xlabel('Cantidad de componentes principales')"
      ],
      "execution_count": null,
      "outputs": [
        {
          "output_type": "execute_result",
          "data": {
            "text/plain": [
              "Text(0.5, 0, 'Cantidad de componentes principales')"
            ]
          },
          "metadata": {},
          "execution_count": 22
        },
        {
          "output_type": "display_data",
          "data": {
            "image/png": "[encoded data removed]",
            "text/plain": [
              "<Figure size 864x288 with 2 Axes>"
            ]
          },
          "metadata": {
            "needs_background": "light"
          }
        }
      ]
    },
    {
      "cell_type": "code",
      "metadata": {
        "id": "NpIC1eFW55Bh"
      },
      "source": [
        "pca = PCA(n_components= 10, random_state=42)\n"
      ],
      "execution_count": null,
      "outputs": []
    },
    {
      "cell_type": "markdown",
      "metadata": {
        "id": "hIFdhSYjQ9ps"
      },
      "source": [
        "##Modelos"
      ]
    },
    {
      "cell_type": "code",
      "metadata": {
        "id": "7rCDk9Uftbwm"
      },
      "source": [
        "lg=LogisticRegression(max_iter=2000, random_state=1, penalty = 'l2', C = 0.01) #onevsrestclassifier"
      ],
      "execution_count": null,
      "outputs": []
    },
    {
      "cell_type": "code",
      "metadata": {
        "id": "ovxPLYLNlf4S",
        "colab": {
          "base_uri": "https://localhost:8080/"
        },
        "outputId": "46d217f0-c189-4a4a-db3f-1206ac6953ce"
      },
      "source": [
        "from sklearn.pipeline import make_pipeline\n",
        "LGpipe = make_pipeline(full_pipeline,lg)\n",
        "LGpipe.fit(X_train_full,y_train)\n"
      ],
      "execution_count": null,
      "outputs": [
        {
          "output_type": "execute_result",
          "data": {
            "text/plain": [
              "Pipeline(steps=[('columntransformer',\n",
              "                 ColumnTransformer(transformers=[('numerical',\n",
              "                                                  Pipeline(steps=[('mismax_scaler',\n",
              "                                                                   MinMaxScaler())]),\n",
              "                                                  ['danceability', 'energy',\n",
              "                                                   'key', 'loudness', 'mode',\n",
              "                                                   'speechiness',\n",
              "                                                   'acousticness',\n",
              "                                                   'instrumentalness',\n",
              "                                                   'liveness', 'valence',\n",
              "                                                   'tempo', 'duration_ms',\n",
              "                                                   'time_signature'])])),\n",
              "                ('logisticregression',\n",
              "                 LogisticRegression(C=0.01, max_iter=2000, random_state=1))])"
            ]
          },
          "metadata": {},
          "execution_count": 35
        }
      ]
    },
    {
      "cell_type": "code",
      "metadata": {
        "id": "B7lk5adnShmM"
      },
      "source": [
        "y_predLG = LGpipe.predict(X_valid_full)"
      ],
      "execution_count": null,
      "outputs": []
    },
    {
      "cell_type": "code",
      "metadata": {
        "id": "adupmKNaSxpy",
        "colab": {
          "base_uri": "https://localhost:8080/"
        },
        "outputId": "5043007b-c2ac-4d91-c80a-1d77cdaef845"
      },
      "source": [
        "print(accuracy_score(y_valid, y_predLG))"
      ],
      "execution_count": null,
      "outputs": [
        {
          "output_type": "stream",
          "name": "stdout",
          "text": [
            "0.43791364639142766\n"
          ]
        }
      ]
    },
    {
      "cell_type": "code",
      "metadata": {
        "id": "oIR2lbPpn8ao"
      },
      "source": [
        "lg_cross_val = cross_val_score(LGpipe,X_train_full,y_train,cv=5,scoring='accuracy').mean()"
      ],
      "execution_count": null,
      "outputs": []
    },
    {
      "cell_type": "code",
      "metadata": {
        "id": "B_ZJFDzAOfMO",
        "colab": {
          "base_uri": "https://localhost:8080/"
        },
        "outputId": "2b20aa4b-7e4e-45b4-ef46-3e0a56b62689"
      },
      "source": [
        "lg_cross_val"
      ],
      "execution_count": null,
      "outputs": [
        {
          "output_type": "execute_result",
          "data": {
            "text/plain": [
              "0.48673848103557527"
            ]
          },
          "metadata": {},
          "execution_count": 56
        }
      ]
    },
    {
      "cell_type": "code",
      "metadata": {
        "id": "rPZOsxWCrzmM"
      },
      "source": [
        "params = {}\n",
        "\n",
        "params['logisticregression__C'] = [0.1,1,10]\n"
      ],
      "execution_count": null,
      "outputs": []
    },
    {
      "cell_type": "code",
      "metadata": {
        "id": "MEC9so6Assb7"
      },
      "source": [
        "lGgrid = GridSearchCV(LGpipe, params, cv=5,scoring='accuracy' )\n",
        "lGgrid.fit(X_train_full,y_train)"
      ],
      "execution_count": null,
      "outputs": []
    },
    {
      "cell_type": "code",
      "metadata": {
        "colab": {
          "base_uri": "https://localhost:8080/"
        },
        "id": "NZ0InDB300re",
        "outputId": "0f2b5222-2a2d-4e9a-966c-f8c74a7cfebb"
      },
      "source": [
        "lGgrid.best_score_"
      ],
      "execution_count": null,
      "outputs": [
        {
          "output_type": "execute_result",
          "data": {
            "text/plain": [
              "0.47883833693727"
            ]
          },
          "metadata": {},
          "execution_count": 56
        }
      ]
    },
    {
      "cell_type": "markdown",
      "metadata": {
        "id": "vqKhD0onl6l5"
      },
      "source": [
        "### DesicionTree"
      ]
    },
    {
      "cell_type": "code",
      "metadata": {
        "id": "b34tbDw4l9Cg",
        "colab": {
          "base_uri": "https://localhost:8080/"
        },
        "outputId": "2c7e55a8-8a15-48ec-8fb7-df2c1a51e2a6"
      },
      "source": [
        "# Create Decision Tree classifer object\n",
        "dtc = DecisionTreeClassifier()\n",
        "\n",
        "dtcPipe = make_pipeline(full_pipeline,dtc)\n",
        "dtcPipe.fit(X_train_full,y_train)\n",
        "\n"
      ],
      "execution_count": null,
      "outputs": [
        {
          "output_type": "execute_result",
          "data": {
            "text/plain": [
              "Pipeline(steps=[('columntransformer',\n",
              "                 ColumnTransformer(transformers=[('numerical',\n",
              "                                                  Pipeline(steps=[('mismax_scaler',\n",
              "                                                                   MinMaxScaler())]),\n",
              "                                                  ['popularity', 'acousticness',\n",
              "                                                   'danceability',\n",
              "                                                   'duration_ms', 'energy',\n",
              "                                                   'instrumentalness',\n",
              "                                                   'liveness', 'loudness',\n",
              "                                                   'speechiness', 'tempo',\n",
              "                                                   'valence']),\n",
              "                                                 ('cat', OrdinalEncoder(),\n",
              "                                                  ['key']),\n",
              "                                                 ('cat1', OrdinalEncoder(),\n",
              "                                                  ['mode'])])),\n",
              "                ('decisiontreeclassifier', DecisionTreeClassifier())])"
            ]
          },
          "metadata": {},
          "execution_count": 35
        }
      ]
    },
    {
      "cell_type": "code",
      "metadata": {
        "id": "a3zqk_WVolfr"
      },
      "source": [
        "y_pred_dtc =  dtcPipe.predict(X_valid_full)"
      ],
      "execution_count": null,
      "outputs": []
    },
    {
      "cell_type": "code",
      "metadata": {
        "id": "xrDBJYGKoxwZ",
        "colab": {
          "base_uri": "https://localhost:8080/"
        },
        "outputId": "b63d72e1-63e3-4611-83f7-617c4d0fe99b"
      },
      "source": [
        "print(accuracy_score(y_valid, y_pred_dtc))"
      ],
      "execution_count": null,
      "outputs": [
        {
          "output_type": "stream",
          "name": "stdout",
          "text": [
            "0.2961624505248666\n"
          ]
        }
      ]
    },
    {
      "cell_type": "code",
      "metadata": {
        "id": "PVD3L7mHVU5X"
      },
      "source": [
        "dtc_cross_val = cross_val_score(dtcPipe,X_train_full,y_train,cv=5,scoring='accuracy').mean()"
      ],
      "execution_count": null,
      "outputs": []
    },
    {
      "cell_type": "code",
      "metadata": {
        "id": "b73vD82k62QZ",
        "colab": {
          "base_uri": "https://localhost:8080/"
        },
        "outputId": "f977a513-cdab-485d-b6aa-51201b41faa6"
      },
      "source": [
        "dtc_cross_val"
      ],
      "execution_count": null,
      "outputs": [
        {
          "output_type": "execute_result",
          "data": {
            "text/plain": [
              "0.2736076418249154"
            ]
          },
          "metadata": {},
          "execution_count": 110
        }
      ]
    },
    {
      "cell_type": "markdown",
      "metadata": {
        "id": "86J-a0eBl5lS"
      },
      "source": [
        "### RandomForest"
      ]
    },
    {
      "cell_type": "code",
      "metadata": {
        "id": "CfR6kH-iyHTy"
      },
      "source": [
        "from sklearn.ensemble import RandomForestClassifier\n",
        "\n",
        "rfc = RandomForestClassifier(n_estimators=250, random_state=42)\n",
        "\n",
        "rfcPipe = make_pipeline(full_pipeline,rfc)\n",
        "rfcPipe.fit(X_train_full,y_train)\n",
        "\n",
        "\n"
      ],
      "execution_count": null,
      "outputs": []
    },
    {
      "cell_type": "code",
      "metadata": {
        "id": "_e7et2EN4jEs"
      },
      "source": [
        "predict = rfcPipe.predict(X_valid_full)"
      ],
      "execution_count": null,
      "outputs": []
    },
    {
      "cell_type": "code",
      "metadata": {
        "id": "GhxjxC2n46uE",
        "colab": {
          "base_uri": "https://localhost:8080/"
        },
        "outputId": "d09d271b-8734-43be-e270-778eff48903c"
      },
      "source": [
        "print(accuracy_score(y_valid, predict))"
      ],
      "execution_count": null,
      "outputs": [
        {
          "output_type": "stream",
          "name": "stdout",
          "text": [
            "0.6706586826347305\n"
          ]
        }
      ]
    },
    {
      "cell_type": "code",
      "metadata": {
        "id": "GMwz_mbXIhdN"
      },
      "source": [
        "from sklearn.metrics import roc_auc_score\n",
        "\n"
      ],
      "execution_count": null,
      "outputs": []
    },
    {
      "cell_type": "code",
      "metadata": {
        "id": "EvEzWycTVbLU"
      },
      "source": [
        "rfc_cross_val = cross_val_score(rfcPipe,X_train_full,y_train,cv=5,scoring='accuracy')"
      ],
      "execution_count": null,
      "outputs": []
    },
    {
      "cell_type": "code",
      "metadata": {
        "id": "OUrp9YP-78y8",
        "colab": {
          "base_uri": "https://localhost:8080/"
        },
        "outputId": "4414b531-934c-4b21-a1bb-a3949d0ad678"
      },
      "source": [
        "rfc_cross_val"
      ],
      "execution_count": null,
      "outputs": [
        {
          "output_type": "execute_result",
          "data": {
            "text/plain": [
              "array([0.57264416, 0.56802752, 0.57137684, 0.57409251, 0.56748438])"
            ]
          },
          "metadata": {},
          "execution_count": 61
        }
      ]
    },
    {
      "cell_type": "code",
      "metadata": {
        "id": "z5Vfk2rDyLEG"
      },
      "source": [
        "predict = rfc.predict(X_valid_full)\n",
        "print(accuracy_score(y_valid, predict))"
      ],
      "execution_count": null,
      "outputs": []
    },
    {
      "cell_type": "markdown",
      "metadata": {
        "id": "Q5FxtF6bnwmR"
      },
      "source": [
        "###KNN"
      ]
    },
    {
      "cell_type": "code",
      "metadata": {
        "id": "yvYNtdFT7OfL",
        "colab": {
          "base_uri": "https://localhost:8080/",
          "height": 245
        },
        "outputId": "54dd89f9-f7f4-45cd-d7ff-4d429f5341eb"
      },
      "source": [
        "from sklearn.neighbors import KNeighborsClassifier\n",
        "knn = KNeighborsClassifier(n_neighbors = 50)\n",
        "knnPipe = make_pipeline(full_pipeline,pca,knn)\n",
        "knnPipe.fit(X_train_full, y_train)\n",
        "#y_pred_knn = knn.predict(X_valid_full)\n",
        "#print(accuracy_score(y_valid, y_pred_knn))\n"
      ],
      "execution_count": null,
      "outputs": [
        {
          "output_type": "error",
          "ename": "NameError",
          "evalue": "ignored",
          "traceback": [
            "\u001b[0;31m---------------------------------------------------------------------------\u001b[0m",
            "\u001b[0;31mNameError\u001b[0m                                 Traceback (most recent call last)",
            "\u001b[0;32m<ipython-input-41-9c24cafab9f6>\u001b[0m in \u001b[0;36m<module>\u001b[0;34m()\u001b[0m\n\u001b[1;32m      1\u001b[0m \u001b[0;32mfrom\u001b[0m \u001b[0msklearn\u001b[0m\u001b[0;34m.\u001b[0m\u001b[0mneighbors\u001b[0m \u001b[0;32mimport\u001b[0m \u001b[0mKNeighborsClassifier\u001b[0m\u001b[0;34m\u001b[0m\u001b[0;34m\u001b[0m\u001b[0m\n\u001b[1;32m      2\u001b[0m \u001b[0mknn\u001b[0m \u001b[0;34m=\u001b[0m \u001b[0mKNeighborsClassifier\u001b[0m\u001b[0;34m(\u001b[0m\u001b[0mn_neighbors\u001b[0m \u001b[0;34m=\u001b[0m \u001b[0;36m50\u001b[0m\u001b[0;34m)\u001b[0m\u001b[0;34m\u001b[0m\u001b[0;34m\u001b[0m\u001b[0m\n\u001b[0;32m----> 3\u001b[0;31m \u001b[0mknnPipe\u001b[0m \u001b[0;34m=\u001b[0m \u001b[0mmake_pipeline\u001b[0m\u001b[0;34m(\u001b[0m\u001b[0mfull_pipeline\u001b[0m\u001b[0;34m,\u001b[0m\u001b[0mpca\u001b[0m\u001b[0;34m,\u001b[0m\u001b[0mknn\u001b[0m\u001b[0;34m)\u001b[0m\u001b[0;34m\u001b[0m\u001b[0;34m\u001b[0m\u001b[0m\n\u001b[0m\u001b[1;32m      4\u001b[0m \u001b[0mknnPipe\u001b[0m\u001b[0;34m.\u001b[0m\u001b[0mfit\u001b[0m\u001b[0;34m(\u001b[0m\u001b[0mX_train_full\u001b[0m\u001b[0;34m,\u001b[0m \u001b[0my_train\u001b[0m\u001b[0;34m)\u001b[0m\u001b[0;34m\u001b[0m\u001b[0;34m\u001b[0m\u001b[0m\n\u001b[1;32m      5\u001b[0m \u001b[0;31m#y_pred_knn = knn.predict(X_valid_full)\u001b[0m\u001b[0;34m\u001b[0m\u001b[0;34m\u001b[0m\u001b[0;34m\u001b[0m\u001b[0m\n",
            "\u001b[0;31mNameError\u001b[0m: name 'pca' is not defined"
          ]
        }
      ]
    },
    {
      "cell_type": "code",
      "metadata": {
        "id": "PbnTlBrV-4-I",
        "colab": {
          "base_uri": "https://localhost:8080/"
        },
        "outputId": "cdc2043d-4167-422a-81f5-48fd136caf3b"
      },
      "source": [
        "y_pred_knn = knnPipe.predict(X_valid_full)\n",
        "print(accuracy_score(y_valid, y_pred_knn))\n"
      ],
      "execution_count": null,
      "outputs": [
        {
          "output_type": "stream",
          "name": "stdout",
          "text": [
            "0.5432494057148402\n"
          ]
        }
      ]
    },
    {
      "cell_type": "code",
      "metadata": {
        "id": "F6VcYyvCyrav"
      },
      "source": [
        "# Numero de arboles\n",
        "n_estimators = [int(x) for x in np.linspace(start = 50, stop = 200, num = 4)]\n",
        "# Numero de features considerado al dividir\n",
        "max_features = ['auto', 'sqrt']\n",
        "# numero maximo de niveles\n",
        "#max_depth = [2,4]\n",
        "# Numero minimo de niveles por nodo\n",
        "#min_samples_split = [2, 5]\n",
        "# Numero minimo de niveles por hoja\n",
        "#min_samples_leaf = [1, 2]\n",
        "# metodo de seleccion por arbol \n",
        "bootstrap = [True, False]"
      ],
      "execution_count": null,
      "outputs": []
    },
    {
      "cell_type": "code",
      "metadata": {
        "colab": {
          "base_uri": "https://localhost:8080/"
        },
        "id": "xdNCIpS2AVjR",
        "outputId": "c31e98ff-8510-4834-9ddf-9d849d9be9f4"
      },
      "source": [
        "n_estimators"
      ],
      "execution_count": null,
      "outputs": [
        {
          "output_type": "execute_result",
          "data": {
            "text/plain": [
              "[50, 100, 150, 200]"
            ]
          },
          "metadata": {},
          "execution_count": 46
        }
      ]
    },
    {
      "cell_type": "markdown",
      "metadata": {
        "id": "veu4QdkZn49l"
      },
      "source": [
        "### GridSerchCv RandonForest"
      ]
    },
    {
      "cell_type": "code",
      "metadata": {
        "id": "Wh1crlC3yuHh"
      },
      "source": [
        "#'randomforestclassifier__n_jobs': None\n",
        "#'randomforestclassifier__n_estimators': 30,\n",
        "params = {}\n",
        "\n",
        "\n",
        "# Grilla\n",
        "param_grid = {}\n",
        "param_grid['randomforestclassifier__n_estimators'] = n_estimators\n",
        "#param_grid['randomforestclassifier__max_features'] = max_features\n",
        "#param_grid['randomforestclassifier__max_depth'] = max_depth\n",
        "#param_grid['randomforestclassifier__min_samples_split'] = min_samples_split\n",
        "#param_grid['randomforestclassifier__min_samples_leaf'] = min_samples_leaf = [1, 2]\n",
        "param_grid['randomforestclassifier__bootstrap']  = bootstrap\n",
        "          \n",
        "          \n",
        "               #'bootstrap': bootstrap"
      ],
      "execution_count": null,
      "outputs": []
    },
    {
      "cell_type": "code",
      "metadata": {
        "id": "8nDRxeJcyw7l"
      },
      "source": [
        "from sklearn.model_selection import GridSearchCV\n",
        "rfc_Grid = GridSearchCV(estimator = rfcPipe, param_grid = param_grid, cv = 3, scoring='accuracy')\n",
        "#, verbose=2, n_jobs = 4"
      ],
      "execution_count": null,
      "outputs": []
    },
    {
      "cell_type": "code",
      "metadata": {
        "id": "O2G0dUgZyzVy",
        "colab": {
          "base_uri": "https://localhost:8080/"
        },
        "outputId": "4a5d7b56-4c07-4a61-e6af-e3f565024d9f"
      },
      "source": [
        "rfc_Grid.fit(X_train_full, y_train)\n"
      ],
      "execution_count": null,
      "outputs": [
        {
          "output_type": "execute_result",
          "data": {
            "text/plain": [
              "GridSearchCV(cv=3,\n",
              "             estimator=Pipeline(steps=[('columntransformer',\n",
              "                                        ColumnTransformer(transformers=[('numerical',\n",
              "                                                                         Pipeline(steps=[('mismax_scaler',\n",
              "                                                                                          MinMaxScaler())]),\n",
              "                                                                         ['danceability',\n",
              "                                                                          'energy',\n",
              "                                                                          'loudness',\n",
              "                                                                          'speechiness',\n",
              "                                                                          'acousticness',\n",
              "                                                                          'instrumentalness',\n",
              "                                                                          'liveness',\n",
              "                                                                          'valence',\n",
              "                                                                          'tempo',\n",
              "                                                                          'duration_ms'])])),\n",
              "                                       ('randomforestclassifier',\n",
              "                                        RandomForestClassifier(n_estimators=250,\n",
              "                                                               random_state=42))]),\n",
              "             param_grid={'randomforestclassifier__bootstrap': [True, False],\n",
              "                         'randomforestclassifier__n_estimators': [50, 100, 150,\n",
              "                                                                  200]},\n",
              "             scoring='accuracy')"
            ]
          },
          "metadata": {},
          "execution_count": 50
        }
      ]
    },
    {
      "cell_type": "code",
      "metadata": {
        "id": "fLJkqT6bf1sT",
        "colab": {
          "base_uri": "https://localhost:8080/"
        },
        "outputId": "e1ac526d-c0cc-4c9f-9fd2-edf3e55d57ee"
      },
      "source": [
        "rfcPipe.get_params()"
      ],
      "execution_count": null,
      "outputs": [
        {
          "output_type": "execute_result",
          "data": {
            "text/plain": [
              "{'columntransformer': ColumnTransformer(transformers=[('numerical',\n",
              "                                  Pipeline(steps=[('mismax_scaler',\n",
              "                                                   MinMaxScaler())]),\n",
              "                                  ['danceability', 'energy', 'key', 'loudness',\n",
              "                                   'mode', 'speechiness', 'acousticness',\n",
              "                                   'instrumentalness', 'liveness', 'valence',\n",
              "                                   'tempo', 'duration_ms', 'time_signature'])]),\n",
              " 'columntransformer__n_jobs': None,\n",
              " 'columntransformer__numerical': Pipeline(steps=[('mismax_scaler', MinMaxScaler())]),\n",
              " 'columntransformer__numerical__memory': None,\n",
              " 'columntransformer__numerical__mismax_scaler': MinMaxScaler(),\n",
              " 'columntransformer__numerical__mismax_scaler__clip': False,\n",
              " 'columntransformer__numerical__mismax_scaler__copy': True,\n",
              " 'columntransformer__numerical__mismax_scaler__feature_range': (0, 1),\n",
              " 'columntransformer__numerical__steps': [('mismax_scaler', MinMaxScaler())],\n",
              " 'columntransformer__numerical__verbose': False,\n",
              " 'columntransformer__remainder': 'drop',\n",
              " 'columntransformer__sparse_threshold': 0.3,\n",
              " 'columntransformer__transformer_weights': None,\n",
              " 'columntransformer__transformers': [('numerical',\n",
              "   Pipeline(steps=[('mismax_scaler', MinMaxScaler())]),\n",
              "   ['danceability',\n",
              "    'energy',\n",
              "    'key',\n",
              "    'loudness',\n",
              "    'mode',\n",
              "    'speechiness',\n",
              "    'acousticness',\n",
              "    'instrumentalness',\n",
              "    'liveness',\n",
              "    'valence',\n",
              "    'tempo',\n",
              "    'duration_ms',\n",
              "    'time_signature'])],\n",
              " 'columntransformer__verbose': False,\n",
              " 'columntransformer__verbose_feature_names_out': True,\n",
              " 'memory': None,\n",
              " 'randomforestclassifier': RandomForestClassifier(n_estimators=250, random_state=42),\n",
              " 'randomforestclassifier__bootstrap': True,\n",
              " 'randomforestclassifier__ccp_alpha': 0.0,\n",
              " 'randomforestclassifier__class_weight': None,\n",
              " 'randomforestclassifier__criterion': 'gini',\n",
              " 'randomforestclassifier__max_depth': None,\n",
              " 'randomforestclassifier__max_features': 'auto',\n",
              " 'randomforestclassifier__max_leaf_nodes': None,\n",
              " 'randomforestclassifier__max_samples': None,\n",
              " 'randomforestclassifier__min_impurity_decrease': 0.0,\n",
              " 'randomforestclassifier__min_samples_leaf': 1,\n",
              " 'randomforestclassifier__min_samples_split': 2,\n",
              " 'randomforestclassifier__min_weight_fraction_leaf': 0.0,\n",
              " 'randomforestclassifier__n_estimators': 250,\n",
              " 'randomforestclassifier__n_jobs': None,\n",
              " 'randomforestclassifier__oob_score': False,\n",
              " 'randomforestclassifier__random_state': 42,\n",
              " 'randomforestclassifier__verbose': 0,\n",
              " 'randomforestclassifier__warm_start': False,\n",
              " 'steps': [('columntransformer', ColumnTransformer(transformers=[('numerical',\n",
              "                                    Pipeline(steps=[('mismax_scaler',\n",
              "                                                     MinMaxScaler())]),\n",
              "                                    ['danceability', 'energy', 'key', 'loudness',\n",
              "                                     'mode', 'speechiness', 'acousticness',\n",
              "                                     'instrumentalness', 'liveness', 'valence',\n",
              "                                     'tempo', 'duration_ms', 'time_signature'])])),\n",
              "  ('randomforestclassifier',\n",
              "   RandomForestClassifier(n_estimators=250, random_state=42))],\n",
              " 'verbose': False}"
            ]
          },
          "metadata": {},
          "execution_count": 48
        }
      ]
    },
    {
      "cell_type": "code",
      "metadata": {
        "id": "gw5PnOrk7MSw",
        "colab": {
          "base_uri": "https://localhost:8080/"
        },
        "outputId": "4d23b93a-68e5-4510-8750-c99bfed76ac1"
      },
      "source": [
        "rfc_Grid.best_score_"
      ],
      "execution_count": null,
      "outputs": [
        {
          "output_type": "execute_result",
          "data": {
            "text/plain": [
              "0.66555221823146"
            ]
          },
          "metadata": {},
          "execution_count": 47
        }
      ]
    },
    {
      "cell_type": "code",
      "metadata": {
        "id": "GfXqBtZRwa_p"
      },
      "source": [
        "\n",
        "from sklearn.ensemble import GradientBoostingClassifier\n",
        "clf = GradientBoostingClassifier(n_estimators=250,\n",
        "     max_depth=5, random_state=0)"
      ],
      "execution_count": null,
      "outputs": []
    },
    {
      "cell_type": "code",
      "metadata": {
        "id": "x7AiyRm7ht3w",
        "colab": {
          "base_uri": "https://localhost:8080/"
        },
        "outputId": "ca1a4d7a-2c21-4941-fa99-d76251bfebc8"
      },
      "source": [
        "XGBpipe = make_pipeline(full_pipeline, clf)\n",
        "XGBpipe.fit(X_train_full,y_train)"
      ],
      "execution_count": null,
      "outputs": [
        {
          "output_type": "execute_result",
          "data": {
            "text/plain": [
              "Pipeline(steps=[('columntransformer',\n",
              "                 ColumnTransformer(transformers=[('numerical',\n",
              "                                                  Pipeline(steps=[('mismax_scaler',\n",
              "                                                                   MinMaxScaler())]),\n",
              "                                                  ['danceability', 'energy',\n",
              "                                                   'key', 'loudness', 'mode',\n",
              "                                                   'speechiness',\n",
              "                                                   'acousticness',\n",
              "                                                   'instrumentalness',\n",
              "                                                   'liveness', 'valence',\n",
              "                                                   'tempo', 'duration_ms',\n",
              "                                                   'time_signature'])])),\n",
              "                ('gradientboostingclassifier',\n",
              "                 GradientBoostingClassifier(max_depth=5, n_estimators=250,\n",
              "                                            random_state=0))])"
            ]
          },
          "metadata": {},
          "execution_count": 51
        }
      ]
    },
    {
      "cell_type": "code",
      "metadata": {
        "id": "-Y4xXL71eFFF"
      },
      "source": [
        "y_pred_GB =  XGBpipe.predict(X_valid_full)"
      ],
      "execution_count": null,
      "outputs": []
    },
    {
      "cell_type": "code",
      "metadata": {
        "colab": {
          "base_uri": "https://localhost:8080/"
        },
        "id": "WkupiogxeSH_",
        "outputId": "6a70fc52-30c6-4284-a713-f35a82dacc46"
      },
      "source": [
        "print(accuracy_score(y_valid, y_pred_GB))"
      ],
      "execution_count": null,
      "outputs": [
        {
          "output_type": "stream",
          "name": "stdout",
          "text": [
            "0.681295304128585\n"
          ]
        }
      ]
    },
    {
      "cell_type": "code",
      "metadata": {
        "id": "46_XFkFthy7Y"
      },
      "source": [
        "XGboost_cross_val = cross_val_score(XGBpipe,X_train_full,y_train,cv=5,scoring='accuracy')"
      ],
      "execution_count": null,
      "outputs": []
    },
    {
      "cell_type": "code",
      "metadata": {
        "colab": {
          "base_uri": "https://localhost:8080/"
        },
        "id": "pRd2PToJ7UvW",
        "outputId": "95982bf0-a479-4f9a-89a6-45e9b829e196"
      },
      "source": [
        "XGboost_cross_val"
      ],
      "execution_count": null,
      "outputs": [
        {
          "output_type": "execute_result",
          "data": {
            "text/plain": [
              "array([0.56015208, 0.56531185, 0.56078573, 0.55897529, 0.55562596])"
            ]
          },
          "metadata": {},
          "execution_count": 26
        }
      ]
    },
    {
      "cell_type": "code",
      "metadata": {
        "id": "ZFRjPZj29dqD"
      },
      "source": [
        "from sklearn.metrics import roc_auc_score"
      ],
      "execution_count": null,
      "outputs": []
    }
  ]
}